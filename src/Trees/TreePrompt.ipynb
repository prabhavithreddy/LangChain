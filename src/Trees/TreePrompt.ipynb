{
 "cells": [
  {
   "cell_type": "code",
   "execution_count": 1,
   "id": "9e197ea0-7836-4008-8643-6dd460e9dd4b",
   "metadata": {},
   "outputs": [],
   "source": [
    "import os\n",
    "import bs4\n",
    "from langchain import hub\n",
    "from langchain.text_splitter import RecursiveCharacterTextSplitter\n",
    "from langchain_community.document_loaders import WebBaseLoader\n",
    "from langchain_community.vectorstores import Chroma\n",
    "from langchain.output_parsers import PydanticOutputParser\n",
    "from langchain_core.output_parsers import StrOutputParser\n",
    "from langchain_core.runnables import RunnablePassthrough\n",
    "from langchain.embeddings.azure_openai import AzureOpenAIEmbeddings\n",
    "from langchain.chat_models import AzureChatOpenAI\n",
    "from langchain.prompts import ChatPromptTemplate\n",
    "from pydantic import BaseModel, Field\n",
    "import warnings\n",
    "warnings.filterwarnings(action='ignore')"
   ]
  },
  {
   "cell_type": "code",
   "execution_count": 2,
   "id": "94328b1a-f292-4cc4-b9fc-4f137bdb3873",
   "metadata": {},
   "outputs": [],
   "source": [
    "os.environ[\"REQUESTS_CA_BUNDLE\"] = r\"../../ca-bundle-full.crt\""
   ]
  },
  {
   "cell_type": "code",
   "execution_count": 3,
   "id": "c25696f4-a265-4f1c-a19a-25d3648aee3d",
   "metadata": {},
   "outputs": [],
   "source": [
    "def format_docs(docs):\n",
    "    return \"\\n\\n\".join(doc.page_content for doc in docs)"
   ]
  },
  {
   "cell_type": "code",
   "execution_count": 4,
   "id": "fae362a2-c981-4ba2-8d56-d3368baf0619",
   "metadata": {},
   "outputs": [],
   "source": [
    "llm = AzureChatOpenAI(\n",
    "    deployment_name=os.environ[\"AZURE_DEPLOYMENT_NAME\"],\n",
    "    openai_api_version=os.environ[\"OPENAI_API_VERSION\"],\n",
    "    openai_api_base=os.environ[\"OPENAI_API_BASE\"],\n",
    "    openai_api_key=os.environ[\"OPENAI_API_KEY\"],\n",
    "    openai_api_type=os.environ[\"OPENAI_API_TYPE\"],\n",
    "    temperature=0\n",
    ")"
   ]
  },
  {
   "cell_type": "code",
   "execution_count": 51,
   "id": "70942011-6621-4967-b9ab-07b553c7dccc",
   "metadata": {},
   "outputs": [],
   "source": [
    "class PromptResponse(BaseModel):\n",
    "    Value:str = Field(description=\"Return the response as string\")\n",
    "    Result:bool = Field(description=\"Return true if the above prompt is valid else false\")\n",
    "\n",
    "    def __repr__(self):\n",
    "        return f\"PromptResponse(Value={self.Value}, Result = {self.Result})\"\n",
    "\n",
    "    def __str__(self):\n",
    "        return self.__repr__()"
   ]
  },
  {
   "cell_type": "code",
   "execution_count": 44,
   "id": "ed5905a2-4652-4d57-8289-2faeea7812bf",
   "metadata": {},
   "outputs": [],
   "source": [
    "#Node(\"In Rahul Dravid's entire career how many runs he scored in Tests\", Chain(llm), output_parser).invoke(retriever | format_docs)"
   ]
  },
  {
   "cell_type": "code",
   "execution_count": 77,
   "id": "8b66a0a4-658e-4fcf-93e7-75526c79374e",
   "metadata": {},
   "outputs": [],
   "source": [
    "def build_tree(llm):\n",
    "    chain = Chain(llm)\n",
    "    output_parser = PydanticOutputParser(pydantic_object=PromptResponse)\n",
    "    tree = Node(\"Is the document is related to Cricket\", chain, output_parser, \n",
    "           left = Node(\"The given document is related to which sports\", chain, output_parser), \n",
    "           right = Node(\"Is the document about Rahul Dravid\", chain, output_parser, \n",
    "                       left = Node(\"Then which player is the document about\", chain, output_parser), \n",
    "                       right = Node(\"In Rahul Dravid's entire career how many runs he scored in Tests\", chain, output_parser)))\n",
    "    return tree"
   ]
  },
  {
   "cell_type": "code",
   "execution_count": 46,
   "id": "598e7d26-cd47-4642-9a2a-b282c83197c3",
   "metadata": {},
   "outputs": [],
   "source": [
    "class Chain:\n",
    "    def __init__(self, llm):\n",
    "        self.prompt = hub.pull(\"rlm/rag-prompt\")\n",
    "        self.llm = llm\n",
    "\n",
    "    def create_rag_chain(self, retriever):\n",
    "        chain = (\n",
    "                {\"context\":  retriever, \"question\": RunnablePassthrough()}\n",
    "                | self.prompt\n",
    "                | self.llm\n",
    "                )\n",
    "        return chain\n",
    "    def create_chain(self, output_parser):\n",
    "        template = \"\"\"{instruction}.{format_instruction}\"\"\"\n",
    "        prompt = ChatPromptTemplate.from_template(template)\n",
    "        chain = prompt | self.llm | output_parser\n",
    "        return chain"
   ]
  },
  {
   "cell_type": "code",
   "execution_count": 68,
   "id": "0d69e588-688b-4ea4-8a8a-98bf0d943c0a",
   "metadata": {},
   "outputs": [],
   "source": [
    "class Node(object):\n",
    "    def __init__(self, instruction: str, chain: Chain, output_parser:PydanticOutputParser, left=None, right=None):\n",
    "        self.instruction = instruction\n",
    "        self.chain = chain\n",
    "        self.left = left\n",
    "        self.right = right\n",
    "        self.output_parser = output_parser\n",
    "\n",
    "    def invoke(self, retriever) -> bool:\n",
    "        rag_output = self.chain.create_rag_chain(retriever).invoke(self.instruction)\n",
    "        #print(rag_output)\n",
    "        template = \"\"\"{instruction}.{format_instruction}\"\"\"\n",
    "        prompt = ChatPromptTemplate.from_template(template)\n",
    "        chain = self.chain.create_chain(self.output_parser)\n",
    "        response = chain.invoke({\"instruction\": \"Based on the previous question return the answer\"+\"\\n\"+rag_output.content, \"format_instruction\":self.output_parser.get_format_instructions()})\n",
    "        print(response)\n",
    "        return response.Result"
   ]
  },
  {
   "cell_type": "code",
   "execution_count": 74,
   "id": "a39744ec-5467-417a-8477-0bbe3ddc608e",
   "metadata": {},
   "outputs": [],
   "source": [
    "class PlayerInformation:\n",
    "    def get_document_embeddings(self, url):\n",
    "        loader = WebBaseLoader(\n",
    "            web_paths=(url,),\n",
    "            bs_kwargs=dict(\n",
    "                parse_only=bs4.SoupStrainer(\"body\")\n",
    "            ),\n",
    "        )\n",
    "        docs = loader.load()\n",
    "        text_splitter = RecursiveCharacterTextSplitter(chunk_size=1000, chunk_overlap=200)\n",
    "        splits = text_splitter.split_documents(docs)\n",
    "        embeddings = AzureOpenAIEmbeddings(\n",
    "            deployment=\"text-embedding-ada-002\"\n",
    "        )\n",
    "        vectorstore = Chroma.from_documents(documents=splits, embedding=embeddings)\n",
    "        retriever = vectorstore.as_retriever()\n",
    "        return retriever | format_docs\n",
    "\n",
    "    def analyze(self, tree, retriever):\n",
    "        root = tree\n",
    "        while root:\n",
    "            if root.invoke(retriever):\n",
    "                root = root.right\n",
    "            else:\n",
    "                root = root.left"
   ]
  },
  {
   "cell_type": "code",
   "execution_count": 75,
   "id": "eee78c8c-98a2-420f-8eda-05a959f9b046",
   "metadata": {},
   "outputs": [],
   "source": [
    "url = \"https://simple.wikipedia.org/wiki/Lionel_Messi\"\n",
    "tree = build_tree(llm)\n",
    "player_information = PlayerInformation()\n",
    "#retriever = player_information.get_document_embeddings(url)\n",
    "#player_information.analyze(tree, retriever)"
   ]
  },
  {
   "cell_type": "code",
   "execution_count": 76,
   "id": "37e77297-189f-44c3-b9f3-f6b313c2af0e",
   "metadata": {},
   "outputs": [
    {
     "name": "stdout",
     "output_type": "stream",
     "text": [
      "PromptResponse(Value=Yes, the document is related to Cricket., Result = True)\n",
      "PromptResponse(Value=Yes, the document is about Rahul Dravid., Result = True)\n",
      "PromptResponse(Value=13288, Result = True)\n"
     ]
    }
   ],
   "source": [
    "retriever = player_information.get_document_embeddings(url)\n",
    "player_information.analyze(tree, retriever)"
   ]
  },
  {
   "cell_type": "code",
   "execution_count": null,
   "id": "4ca0a6d6-4702-4c32-91cf-86de1c2f0b3a",
   "metadata": {},
   "outputs": [],
   "source": []
  }
 ],
 "metadata": {
  "kernelspec": {
   "display_name": "Python 3 (ipykernel)",
   "language": "python",
   "name": "python3"
  },
  "language_info": {
   "codemirror_mode": {
    "name": "ipython",
    "version": 3
   },
   "file_extension": ".py",
   "mimetype": "text/x-python",
   "name": "python",
   "nbconvert_exporter": "python",
   "pygments_lexer": "ipython3",
   "version": "3.11.6"
  }
 },
 "nbformat": 4,
 "nbformat_minor": 5
}
