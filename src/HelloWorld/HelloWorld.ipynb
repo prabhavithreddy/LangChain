{
 "cells": [
  {
   "cell_type": "code",
   "execution_count": 3,
   "id": "67b8ca1b-d8f9-4cfb-8a02-e93122c33eb1",
   "metadata": {},
   "outputs": [],
   "source": [
    "import openai\n",
    "import os"
   ]
  },
  {
   "cell_type": "code",
   "execution_count": 6,
   "id": "c0443e6c-36aa-44a8-be01-005eb80ba31c",
   "metadata": {},
   "outputs": [],
   "source": [
    "# Set your key to OPENAI_API_KEY environment variable to keep it hidden from users.\n",
    "openai.api_key = os.getenv(\"OPENAI_API_KEY\")\n",
    "engine = \"gpt-3.5-turbo\""
   ]
  },
  {
   "cell_type": "code",
   "execution_count": 5,
   "id": "c6d61ce5-8710-42bd-af9c-7149320da7a5",
   "metadata": {
    "scrolled": true
   },
   "outputs": [],
   "source": [
    "reply = openai.ChatCompletion.create(\n",
    "        engine=engine,\n",
    "        messages=[\n",
    "            {\"role\": \"system\", \"content\": \"You are a helpful assistant.\"},\n",
    "            {\n",
    "                \"role\": \"user\",\n",
    "                \"content\": \"Hello World!\",\n",
    "            },\n",
    "        ]\n",
    "    )"
   ]
  },
  {
   "cell_type": "code",
   "execution_count": 11,
   "id": "216fcfdd-ce5c-424b-9a2a-f18683ba6956",
   "metadata": {},
   "outputs": [
    {
     "name": "stdout",
     "output_type": "stream",
     "text": [
      "Hello! How can I assist you today?\n"
     ]
    }
   ],
   "source": [
    "print(reply['choices'][0]['message']['content'])"
   ]
  }
 ],
 "metadata": {
  "kernelspec": {
   "display_name": "Python 3 (ipykernel)",
   "language": "python",
   "name": "python3"
  },
  "language_info": {
   "codemirror_mode": {
    "name": "ipython",
    "version": 3
   },
   "file_extension": ".py",
   "mimetype": "text/x-python",
   "name": "python",
   "nbconvert_exporter": "python",
   "pygments_lexer": "ipython3",
   "version": "3.11.6"
  }
 },
 "nbformat": 4,
 "nbformat_minor": 5
}
