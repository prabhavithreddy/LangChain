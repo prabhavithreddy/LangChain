{
 "cells": [
  {
   "cell_type": "code",
   "execution_count": null,
   "id": "55289f6b-1cbf-42f8-bcbc-e4d92750839b",
   "metadata": {},
   "outputs": [],
   "source": [
    "import os\n",
    "from langchain.chat_models import AzureChatOpenAI\n",
    "#from langchain_openai.chat_models import AzureChatOpenAI"
   ]
  },
  {
   "cell_type": "code",
   "execution_count": null,
   "id": "b783fd5e-3360-47d6-bdfc-200f5b3d6f6e",
   "metadata": {},
   "outputs": [],
   "source": [
    "api_version = \"2023-03-15\"\n",
    "engine = \"gpt-3.5-turbo-0613\"\n",
    "os.environ[\"REQUESTS_CA_BUNDLE\"] = \"../../ca-bundle-full.crt\""
   ]
  },
  {
   "cell_type": "code",
   "execution_count": null,
   "id": "a72712cc-44de-4d80-af20-be31b2dea18c",
   "metadata": {},
   "outputs": [],
   "source": [
    "llm = AzureChatOpenAI(api_version=api_version, azure_deployment=engine)"
   ]
  },
  {
   "cell_type": "code",
   "execution_count": null,
   "id": "7d96cc88-3273-4467-9c14-71ea7a17f468",
   "metadata": {},
   "outputs": [],
   "source": [
    "from langchain.schema import AIMessage, HumanMessage, SystemMessage"
   ]
  },
  {
   "cell_type": "code",
   "execution_count": null,
   "id": "4eb32cea-2608-419f-a89a-5a92c824cbcb",
   "metadata": {},
   "outputs": [],
   "source": [
    "reply = llm([\n",
    "    SystemMessage(content=\"You are a helpful assistant.\"), \n",
    "    HumanMessage(content=\"Hello World!\")\n",
    "])"
   ]
  },
  {
   "cell_type": "code",
   "execution_count": null,
   "id": "55538c79-9a4a-4004-86a4-581865855db9",
   "metadata": {},
   "outputs": [],
   "source": [
    "reply.content"
   ]
  },
  {
   "cell_type": "code",
   "execution_count": null,
   "id": "3af4a431-a8bb-47e6-ab00-b1699d42e418",
   "metadata": {},
   "outputs": [],
   "source": [
    "llm.invoke(\"Hi\")"
   ]
  },
  {
   "cell_type": "code",
   "execution_count": null,
   "id": "61a1604d-b190-4474-861e-073956d47fe1",
   "metadata": {},
   "outputs": [],
   "source": []
  }
 ],
 "metadata": {
  "kernelspec": {
   "display_name": "Python 3 (ipykernel)",
   "language": "python",
   "name": "python3"
  },
  "language_info": {
   "codemirror_mode": {
    "name": "ipython",
    "version": 3
   },
   "file_extension": ".py",
   "mimetype": "text/x-python",
   "name": "python",
   "nbconvert_exporter": "python",
   "pygments_lexer": "ipython3",
   "version": "3.11.6"
  }
 },
 "nbformat": 4,
 "nbformat_minor": 5
}
