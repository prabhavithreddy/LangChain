{
 "cells": [
  {
   "cell_type": "code",
   "execution_count": 1,
   "id": "650c0a44-e64c-4043-93d1-72656ca95611",
   "metadata": {},
   "outputs": [],
   "source": [
    "import os\n",
    "from dotenv import load_dotenv\n",
    "from langchain.chat_models import AzureChatOpenAI\n",
    "from langchain.output_parsers import PydanticOutputParser\n",
    "from langchain.prompts import HumanMessagePromptTemplate, ChatPromptTemplate\n",
    "from pydantic import BaseModel, Field\n",
    "load_dotenv()\n",
    "import warnings\n",
    "warnings.filterwarnings(action=\"ignore\")"
   ]
  },
  {
   "cell_type": "code",
   "execution_count": 2,
   "id": "c80ab10a-899d-4415-8c3d-2727933a3539",
   "metadata": {},
   "outputs": [],
   "source": [
    "os.environ[\"REQUESTS_CA_BUNDLE\"] = r\"../../ca-bundle-full.crt\""
   ]
  },
  {
   "cell_type": "code",
   "execution_count": 3,
   "id": "5e740fab-d185-4034-95cf-b3fb28f140cf",
   "metadata": {},
   "outputs": [],
   "source": [
    "llm = AzureChatOpenAI(\n",
    "    deployment_name=os.environ[\"AZURE_DEPLOYMENT_NAME\"],\n",
    "    openai_api_version=os.environ[\"OPENAI_API_VERSION\"],\n",
    "    openai_api_base=os.environ[\"OPENAI_API_BASE\"],\n",
    "    openai_api_key=os.environ[\"OPENAI_API_KEY\"],\n",
    "    openai_api_type=os.environ[\"OPENAI_API_TYPE\"],\n",
    ") "
   ]
  },
  {
   "cell_type": "code",
   "execution_count": 11,
   "id": "0f3d9178-6b68-4064-9e26-ab582f554422",
   "metadata": {},
   "outputs": [],
   "source": [
    "class Address(BaseModel):\n",
    "    loc_str_1: str = Field(description=\"Location string 1\")\n",
    "    loc_str_2: str = Field(description=\"Location string 2\")\n",
    "    city: str = Field(description=\"City of the address\")\n",
    "    state: str = Field(description=\"State of the address\")\n",
    "    country: str = Field(description=\"ISO Country of the address\")\n",
    "    is_hq: bool = Field(description=\"Is this address a Global Headquarters\")\n",
    "class Addresses(BaseModel):\n",
    "    addresses:list[Address] = Field(description=\"List of address\")"
   ]
  },
  {
   "cell_type": "code",
   "execution_count": 12,
   "id": "a438efce-4e41-48ac-947e-ede7d4c5c860",
   "metadata": {},
   "outputs": [],
   "source": [
    "output_parser = PydanticOutputParser(pydantic_object = Addresses)\n",
    "format_instructions = output_parser.get_format_instructions()"
   ]
  },
  {
   "cell_type": "code",
   "execution_count": 13,
   "id": "87457163-31e2-4154-8f20-13c33fe36dd5",
   "metadata": {},
   "outputs": [
    {
     "data": {
      "text/plain": [
       "'The output should be formatted as a JSON instance that conforms to the JSON schema below.\\n\\nAs an example, for the schema {\"properties\": {\"foo\": {\"title\": \"Foo\", \"description\": \"a list of strings\", \"type\": \"array\", \"items\": {\"type\": \"string\"}}}, \"required\": [\"foo\"]}\\nthe object {\"foo\": [\"bar\", \"baz\"]} is a well-formatted instance of the schema. The object {\"properties\": {\"foo\": [\"bar\", \"baz\"]}} is not well-formatted.\\n\\nHere is the output schema:\\n```\\n{\"$defs\": {\"Address\": {\"properties\": {\"loc_str_1\": {\"description\": \"Location string 1\", \"title\": \"Loc Str 1\", \"type\": \"string\"}, \"loc_str_2\": {\"description\": \"Location string 2\", \"title\": \"Loc Str 2\", \"type\": \"string\"}, \"city\": {\"description\": \"City of the address\", \"title\": \"City\", \"type\": \"string\"}, \"state\": {\"description\": \"State of the address\", \"title\": \"State\", \"type\": \"string\"}, \"country\": {\"description\": \"ISO Country of the address\", \"title\": \"Country\", \"type\": \"string\"}, \"is_hq\": {\"description\": \"Is this address a Global Headquarters\", \"title\": \"Is Hq\", \"type\": \"boolean\"}}, \"required\": [\"loc_str_1\", \"loc_str_2\", \"city\", \"state\", \"country\", \"is_hq\"], \"title\": \"Address\", \"type\": \"object\"}}, \"properties\": {\"addresses\": {\"description\": \"List of address\", \"items\": {\"$ref\": \"#/$defs/Address\"}, \"title\": \"Addresses\", \"type\": \"array\"}}, \"required\": [\"addresses\"]}\\n```'"
      ]
     },
     "execution_count": 13,
     "metadata": {},
     "output_type": "execute_result"
    }
   ],
   "source": [
    "format_instructions"
   ]
  },
  {
   "cell_type": "code",
   "execution_count": 18,
   "id": "096b308b-6a2a-415e-b607-2f67981d2650",
   "metadata": {},
   "outputs": [
    {
     "data": {
      "text/plain": [
       "Addresses(addresses=[Address(loc_str_1='123 Main St', loc_str_2='', city='New York', state='NY', country='USA', is_hq=True), Address(loc_str_1='456 Park Ave', loc_str_2='Suite 789', city='San Francisco', state='CA', country='USA', is_hq=False)])"
      ]
     },
     "execution_count": 18,
     "metadata": {},
     "output_type": "execute_result"
    }
   ],
   "source": [
    "human_text = \"{instruction}\\n{format_instructions}\"\n",
    "message = HumanMessagePromptTemplate.from_template(human_text)\n",
    "prompt = ChatPromptTemplate.from_messages([message])\n",
    "\n",
    "chain = prompt | llm | output_parser\n",
    "chain.invoke({\"instruction\":\"Get list of address of IBM\",\"format_instructions\":format_instructions})"
   ]
  }
 ],
 "metadata": {
  "kernelspec": {
   "display_name": "Python 3 (ipykernel)",
   "language": "python",
   "name": "python3"
  },
  "language_info": {
   "codemirror_mode": {
    "name": "ipython",
    "version": 3
   },
   "file_extension": ".py",
   "mimetype": "text/x-python",
   "name": "python",
   "nbconvert_exporter": "python",
   "pygments_lexer": "ipython3",
   "version": "3.11.6"
  }
 },
 "nbformat": 4,
 "nbformat_minor": 5
}
