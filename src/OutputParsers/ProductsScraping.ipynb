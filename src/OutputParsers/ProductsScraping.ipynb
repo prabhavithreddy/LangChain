{
 "cells": [
  {
   "cell_type": "markdown",
   "id": "21438fa0-a903-4283-a949-88984a7d82d2",
   "metadata": {},
   "source": [
    "## Notebook displaying how to extract content using object-oriented way\n",
    "Steps to achive\n",
    "  1. Identify a list of products from an e-commerce website like Flipkart\n",
    "  2. Extract the HTML text of the website or URL using Beautiful Soup\n",
    "  3. Create an object model to capture the data according to your style\n",
    "  4. Use PydanticOutputParser to create specific instructions to parse the data according to our format\n",
    "  5. Display the results for confirmation "
   ]
  },
  {
   "cell_type": "code",
   "execution_count": 17,
   "id": "b7853cf5-f7f9-421e-9524-84aea20d7d4d",
   "metadata": {},
   "outputs": [],
   "source": [
    "# Requirements.txt\n",
    "# langchain[all]\n",
    "# openai==0.28\n",
    "# python-dotenv\n",
    "# jupyter\n",
    "# pydantic\n",
    "# beautifulsoup4\n",
    "# requests"
   ]
  },
  {
   "cell_type": "code",
   "execution_count": 1,
   "id": "093777a7-c399-4195-a58d-db632892f0b0",
   "metadata": {},
   "outputs": [],
   "source": [
    "# Import all the required libraries\n",
    "import os\n",
    "import requests\n",
    "from dotenv import load_dotenv\n",
    "from langchain.chat_models import AzureChatOpenAI\n",
    "from langchain.output_parsers import PydanticOutputParser\n",
    "from langchain.prompts import HumanMessagePromptTemplate, ChatPromptTemplate\n",
    "from pydantic import BaseModel, Field\n",
    "from bs4 import BeautifulSoup\n",
    "load_dotenv()\n",
    "import warnings\n",
    "warnings.filterwarnings(action=\"ignore\")"
   ]
  },
  {
   "cell_type": "code",
   "execution_count": 2,
   "id": "68948aaa-6c59-41e6-a0cf-5ec8d5ff4024",
   "metadata": {},
   "outputs": [],
   "source": [
    "# Set your certificate file path\n",
    "os.environ[\"REQUESTS_CA_BUNDLE\"] = r\"../../ca-bundle-full.crt\""
   ]
  },
  {
   "cell_type": "code",
   "execution_count": 3,
   "id": "6dc9d2bb-84e2-4c94-8fdc-e758003d4511",
   "metadata": {},
   "outputs": [],
   "source": [
    "# Create your llm object from any of your available models like Chat GPT 3.5 turbo\n",
    "llm = AzureChatOpenAI(\n",
    "    deployment_name=os.environ[\"AZURE_DEPLOYMENT_NAME\"],\n",
    "    openai_api_version=os.environ[\"OPENAI_API_VERSION\"],\n",
    "    openai_api_base=os.environ[\"OPENAI_API_BASE\"],\n",
    "    openai_api_key=os.environ[\"OPENAI_API_KEY\"],\n",
    "    openai_api_type=os.environ[\"OPENAI_API_TYPE\"],\n",
    ") "
   ]
  },
  {
   "cell_type": "code",
   "execution_count": 4,
   "id": "5a89101a-af8a-47a0-8131-023c74f91afd",
   "metadata": {},
   "outputs": [],
   "source": [
    "# Here we are declaring model classes to capture Mobile related information from an e-commerce website\n",
    "class ProductDetails(BaseModel):\n",
    "    '''\n",
    "        This class is used to capture additional product details related to Mobile\n",
    "    '''\n",
    "    RAM: int = Field(descriptoin=\"RAM of the mobile\")\n",
    "    ROM: int = Field(description=\"ROM of the mobile\")\n",
    "    Battery: int = Field(description=\"Battery capacity of the mobile\")\n",
    "        \n",
    "class Product(BaseModel):\n",
    "    '''\n",
    "        This class is used to capture primary product details of Mobile\n",
    "    '''\n",
    "    Name: str = Field(description=\"Name of the mobile.\")\n",
    "    Price: int = Field(description=\"Price of the mobile.\")\n",
    "    Details: ProductDetails = Field(description=\"Additional features of the Mobile\")\n",
    "    \n",
    "class Products(BaseModel):\n",
    "    '''\n",
    "        This class is used to store the collection/list of Mobiles \n",
    "    '''\n",
    "    Mobiles: list[Product] = Field(\"List of mobiles listed in the text\")"
   ]
  },
  {
   "cell_type": "code",
   "execution_count": 5,
   "id": "be422553-b7bd-4451-9ce1-ce123e90dba2",
   "metadata": {},
   "outputs": [],
   "source": [
    "# Declare your url or website for extracting data\n",
    "url = \"https://www.flipkart.com/search?q=samsung+s23&otracker=search&otracker1=search&marketplace=FLIPKART&as-show=on&as=off&p%5B%5D=facets.ram%255B%255D%3D8%2BGB%2Band%2BAbove&p%5B%5D=facets.battery_capacity%255B%255D%3D5000%2B-%2B5999%2BmAh\""
   ]
  },
  {
   "cell_type": "code",
   "execution_count": 13,
   "id": "6a9a27e0-4edf-482e-b61e-62e208bb1d62",
   "metadata": {},
   "outputs": [],
   "source": [
    "# Store the HTML text to a variable\n",
    "response = requests.get(url)\n",
    "soup = BeautifulSoup(response.text, \"html.parser\")\n",
    "html_text = soup.body.text"
   ]
  },
  {
   "cell_type": "code",
   "execution_count": 7,
   "id": "e29ed99f-1ea3-47f7-b622-b3c9a8422510",
   "metadata": {},
   "outputs": [],
   "source": [
    "# Create an output parser from our class model\n",
    "output_parser = PydanticOutputParser(pydantic_object = Products)\n",
    "format_instructions = output_parser.get_format_instructions()"
   ]
  },
  {
   "cell_type": "code",
   "execution_count": 15,
   "id": "f958149c-719f-408a-8b18-3661475935e0",
   "metadata": {},
   "outputs": [],
   "source": [
    "# Create a prompt and pass the html text to LLM for extracting data as per our model\n",
    "human_text = \"{instruction}\\n{format_instructions}\"\n",
    "message = HumanMessagePromptTemplate.from_template(human_text)\n",
    "prompt = ChatPromptTemplate.from_messages([message])\n",
    "\n",
    "chain = prompt | llm | output_parser\n",
    "products = chain.invoke({\"instruction\":\"Extract all the products from the below text \\n\" + html_text,\"format_instructions\":format_instructions})"
   ]
  },
  {
   "cell_type": "code",
   "execution_count": 16,
   "id": "c1f0467c-60fb-45d4-942d-e451d8bfd0ac",
   "metadata": {},
   "outputs": [
    {
     "data": {
      "text/plain": [
       "[Product(Name='SAMSUNG Galaxy S23 Ultra 5G (Cream, 256 GB)', Price=124999, Details=ProductDetails(RAM=12, ROM=256, Battery=5000)),\n",
       " Product(Name='SAMSUNG Galaxy S23 Ultra 5G (Green, 256 GB)', Price=124999, Details=ProductDetails(RAM=12, ROM=256, Battery=5000)),\n",
       " Product(Name='SAMSUNG Galaxy S23 Ultra 5G (Phantom Black, 256 GB)', Price=124999, Details=ProductDetails(RAM=12, ROM=256, Battery=5000)),\n",
       " Product(Name='SAMSUNG Galaxy S23 Ultra 5G (Cream, 512 GB)', Price=134999, Details=ProductDetails(RAM=12, ROM=512, Battery=5000)),\n",
       " Product(Name='SAMSUNG Galaxy S23 Ultra 5G (Green, 512 GB)', Price=134999, Details=ProductDetails(RAM=12, ROM=512, Battery=5000)),\n",
       " Product(Name='SAMSUNG Galaxy S23 Ultra 5G (Green, 1 TB)', Price=154999, Details=ProductDetails(RAM=12, ROM=1024, Battery=5000)),\n",
       " Product(Name='SAMSUNG Galaxy S23 Ultra 5G (Cream, 1 TB)', Price=154999, Details=ProductDetails(RAM=12, ROM=1024, Battery=5000)),\n",
       " Product(Name='SAMSUNG Galaxy S23 Ultra 5G (Phantom Black, 1 TB)', Price=154999, Details=ProductDetails(RAM=12, ROM=1024, Battery=5000)),\n",
       " Product(Name='SAMSUNG Galaxy S23 Ultra 5G (Phantom Black, 512 GB)', Price=134999, Details=ProductDetails(RAM=12, ROM=512, Battery=5000))]"
      ]
     },
     "execution_count": 16,
     "metadata": {},
     "output_type": "execute_result"
    }
   ],
   "source": [
    "# Displaying the list of products/Mobiles in an object oriented way\n",
    "products.Mobiles"
   ]
  },
  {
   "cell_type": "code",
   "execution_count": 18,
   "id": "154f3a4d-da8b-4c09-a946-fc78ba31e4f9",
   "metadata": {},
   "outputs": [
    {
     "data": {
      "text/plain": [
       "'The output should be formatted as a JSON instance that conforms to the JSON schema below.\\n\\nAs an example, for the schema {\"properties\": {\"foo\": {\"title\": \"Foo\", \"description\": \"a list of strings\", \"type\": \"array\", \"items\": {\"type\": \"string\"}}}, \"required\": [\"foo\"]}\\nthe object {\"foo\": [\"bar\", \"baz\"]} is a well-formatted instance of the schema. The object {\"properties\": {\"foo\": [\"bar\", \"baz\"]}} is not well-formatted.\\n\\nHere is the output schema:\\n```\\n{\"$defs\": {\"Product\": {\"description\": \"This class is used to capture primary product details of Mobile\", \"properties\": {\"Name\": {\"description\": \"Name of the mobile.\", \"title\": \"Name\", \"type\": \"string\"}, \"Price\": {\"description\": \"Price of the mobile.\", \"title\": \"Price\", \"type\": \"integer\"}, \"Details\": {\"allOf\": [{\"$ref\": \"#/$defs/ProductDetails\"}], \"description\": \"Additional features of the Mobile\"}}, \"required\": [\"Name\", \"Price\", \"Details\"], \"title\": \"Product\", \"type\": \"object\"}, \"ProductDetails\": {\"description\": \"This class is used to capture additional product details related to Mobile\", \"properties\": {\"RAM\": {\"descriptoin\": \"RAM of the mobile\", \"title\": \"Ram\", \"type\": \"integer\"}, \"ROM\": {\"description\": \"ROM of the mobile\", \"title\": \"Rom\", \"type\": \"integer\"}, \"Battery\": {\"description\": \"Battery capacity of the mobile\", \"title\": \"Battery\", \"type\": \"integer\"}}, \"required\": [\"RAM\", \"ROM\", \"Battery\"], \"title\": \"ProductDetails\", \"type\": \"object\"}}, \"description\": \"This class is used to store the collection/list of Mobiles \", \"properties\": {\"Mobiles\": {\"default\": \"List of mobiles listed in the text\", \"items\": {\"$ref\": \"#/$defs/Product\"}, \"title\": \"Mobiles\", \"type\": \"array\"}}}\\n```'"
      ]
     },
     "execution_count": 18,
     "metadata": {},
     "output_type": "execute_result"
    }
   ],
   "source": [
    "format_instructions"
   ]
  },
  {
   "cell_type": "code",
   "execution_count": null,
   "id": "6a614310-2d9d-4b14-81e6-a3f33f9788c6",
   "metadata": {},
   "outputs": [],
   "source": []
  }
 ],
 "metadata": {
  "kernelspec": {
   "display_name": "Python 3 (ipykernel)",
   "language": "python",
   "name": "python3"
  },
  "language_info": {
   "codemirror_mode": {
    "name": "ipython",
    "version": 3
   },
   "file_extension": ".py",
   "mimetype": "text/x-python",
   "name": "python",
   "nbconvert_exporter": "python",
   "pygments_lexer": "ipython3",
   "version": "3.11.6"
  }
 },
 "nbformat": 4,
 "nbformat_minor": 5
}
