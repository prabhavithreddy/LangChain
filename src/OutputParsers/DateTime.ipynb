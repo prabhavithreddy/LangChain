{
 "cells": [
  {
   "cell_type": "code",
   "execution_count": 4,
   "id": "e8e24e00-d573-4a3a-89a1-295d2655586e",
   "metadata": {},
   "outputs": [],
   "source": [
    "import os\n",
    "from dotenv import load_dotenv \n",
    "from langchain.chat_models import AzureChatOpenAI\n",
    "from langchain.prompts import ChatPromptTemplate, HumanMessagePromptTemplate\n",
    "from langchain.output_parsers import CommaSeparatedListOutputParser, DatetimeOutputParser\n",
    "load_dotenv()\n",
    "import warnings\n",
    "warnings.filterwarnings(action='ignore')"
   ]
  },
  {
   "cell_type": "code",
   "execution_count": 2,
   "id": "6995f683-5d6f-49c0-8824-11d710d52a5d",
   "metadata": {},
   "outputs": [],
   "source": [
    "os.environ[\"REQUESTS_CA_BUNDLE\"] = r\"../../ca-bundle-full.crt\""
   ]
  },
  {
   "cell_type": "code",
   "execution_count": 3,
   "id": "a5e2ad1a-f352-42b6-8526-8ee7d3d3a2e6",
   "metadata": {},
   "outputs": [],
   "source": [
    "llm = AzureChatOpenAI(\n",
    "    deployment_name=os.environ[\"AZURE_DEPLOYMENT_NAME\"],\n",
    "    openai_api_version=os.environ[\"OPENAI_API_VERSION\"],\n",
    "    openai_api_base=os.environ[\"OPENAI_API_BASE\"],\n",
    "    openai_api_key=os.environ[\"OPENAI_API_KEY\"],\n",
    "    openai_api_type=os.environ[\"OPENAI_API_TYPE\"],\n",
    ") "
   ]
  },
  {
   "cell_type": "code",
   "execution_count": 10,
   "id": "a70909e5-32f8-4ce5-a730-994daa50a074",
   "metadata": {},
   "outputs": [],
   "source": [
    "output_parser = DatetimeOutputParser()\n",
    "format_instructions = output_parser.get_format_instructions()"
   ]
  },
  {
   "cell_type": "code",
   "execution_count": 6,
   "id": "4f812c96-682d-4c67-ad43-22f13cfcf768",
   "metadata": {},
   "outputs": [
    {
     "data": {
      "text/plain": [
       "'1973-04-24 00:00:00'"
      ]
     },
     "execution_count": 6,
     "metadata": {},
     "output_type": "execute_result"
    }
   ],
   "source": [
    "prompt = ChatPromptTemplate.from_template(\"When was {x} born.\" + output_parser.get_format_instructions())\n",
    "chain = prompt | llm | output_parser | str\n",
    "chain.invoke({\"x\":\"Sachin Tendulkar\"})"
   ]
  },
  {
   "cell_type": "code",
   "execution_count": 8,
   "id": "0f2c3c9c-5e90-4bf4-af0f-072f1ac0320d",
   "metadata": {},
   "outputs": [],
   "source": [
    "#format_instructions"
   ]
  },
  {
   "cell_type": "code",
   "execution_count": 12,
   "id": "e4a14dee-92c5-455d-a058-0ce29b3ed98b",
   "metadata": {},
   "outputs": [
    {
     "data": {
      "text/plain": [
       "'1973-04-24 00:00:00'"
      ]
     },
     "execution_count": 12,
     "metadata": {},
     "output_type": "execute_result"
    }
   ],
   "source": [
    "prompt = ChatPromptTemplate.from_template(\"When was {x} born.\\n{format_instructions}\")\n",
    "chain = prompt | llm | output_parser | str\n",
    "chain.invoke({\"x\":\"Sachin Tendulkar\", \"format_instructions\": format_instructions})"
   ]
  },
  {
   "cell_type": "code",
   "execution_count": 13,
   "id": "3485136a-2c1c-4c47-b80c-aebbb9e084d7",
   "metadata": {},
   "outputs": [],
   "source": [
    "human_template = \"When was {x} born.\\n{format_instructions}\"\n",
    "human_message = HumanMessagePromptTemplate.from_template(human_template)\n",
    "chat_prompt = ChatPromptTemplate.from_messages([human_message])"
   ]
  },
  {
   "cell_type": "code",
   "execution_count": 14,
   "id": "f8814f3f-80f8-4e6e-9c76-a70aa6aad48b",
   "metadata": {},
   "outputs": [],
   "source": [
    "chat_message = chat_prompt.format_prompt(x=\"Sachin Tendulkar\", format_instructions=format_instructions).to_messages()"
   ]
  },
  {
   "cell_type": "code",
   "execution_count": 16,
   "id": "47fa6bf5-eb16-4456-a5bf-53c39248f77d",
   "metadata": {},
   "outputs": [
    {
     "data": {
      "text/plain": [
       "'1973-04-24 00:00:00'"
      ]
     },
     "execution_count": 16,
     "metadata": {},
     "output_type": "execute_result"
    }
   ],
   "source": [
    "chain = ChatPromptTemplate.from_messages(chat_message) | llm | output_parser | str\n",
    "chain.invoke({})"
   ]
  },
  {
   "cell_type": "code",
   "execution_count": 17,
   "id": "51092793-d80f-4706-ad26-76152e1a9f5e",
   "metadata": {},
   "outputs": [
    {
     "data": {
      "text/plain": [
       "'1973-04-24 00:00:00'"
      ]
     },
     "execution_count": 17,
     "metadata": {},
     "output_type": "execute_result"
    }
   ],
   "source": [
    "human_template = \"When was {x} born.\\n{format_instructions}\"\n",
    "human_message = HumanMessagePromptTemplate.from_template(human_template)\n",
    "chat_prompt = ChatPromptTemplate.from_messages([human_message])\n",
    "chain = chat_prompt | llm | output_parser | str\n",
    "chain.invoke({\"x\":\"Sachin Tendulkar\", \"format_instructions\": format_instructions})"
   ]
  },
  {
   "cell_type": "code",
   "execution_count": null,
   "id": "5f0a9390-0ea4-4b6e-818e-eecc2159793f",
   "metadata": {},
   "outputs": [],
   "source": []
  }
 ],
 "metadata": {
  "kernelspec": {
   "display_name": "Python 3 (ipykernel)",
   "language": "python",
   "name": "python3"
  },
  "language_info": {
   "codemirror_mode": {
    "name": "ipython",
    "version": 3
   },
   "file_extension": ".py",
   "mimetype": "text/x-python",
   "name": "python",
   "nbconvert_exporter": "python",
   "pygments_lexer": "ipython3",
   "version": "3.11.6"
  }
 },
 "nbformat": 4,
 "nbformat_minor": 5
}
