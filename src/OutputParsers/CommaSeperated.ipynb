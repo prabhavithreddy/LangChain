{
 "cells": [
  {
   "cell_type": "code",
   "execution_count": 15,
   "id": "e8e24e00-d573-4a3a-89a1-295d2655586e",
   "metadata": {},
   "outputs": [],
   "source": [
    "import os\n",
    "from dotenv import load_dotenv \n",
    "from langchain.chat_models import AzureChatOpenAI\n",
    "from langchain.prompts import ChatPromptTemplate, HumanMessagePromptTemplate\n",
    "from langchain.output_parsers import CommaSeparatedListOutputParser\n",
    "load_dotenv()\n",
    "import warnings\n",
    "warnings.filterwarnings(action='ignore')"
   ]
  },
  {
   "cell_type": "code",
   "execution_count": 10,
   "id": "6995f683-5d6f-49c0-8824-11d710d52a5d",
   "metadata": {},
   "outputs": [],
   "source": [
    "os.environ[\"REQUESTS_CA_BUNDLE\"] = r\"../../ca-bundle-full.crt\""
   ]
  },
  {
   "cell_type": "code",
   "execution_count": 11,
   "id": "a5e2ad1a-f352-42b6-8526-8ee7d3d3a2e6",
   "metadata": {},
   "outputs": [],
   "source": [
    "llm = AzureChatOpenAI(\n",
    "    deployment_name=os.environ[\"AZURE_DEPLOYMENT_NAME\"],\n",
    "    openai_api_version=os.environ[\"OPENAI_API_VERSION\"],\n",
    "    openai_api_base=os.environ[\"OPENAI_API_BASE\"],\n",
    "    openai_api_key=os.environ[\"OPENAI_API_KEY\"],\n",
    "    openai_api_type=os.environ[\"OPENAI_API_TYPE\"],\n",
    ") "
   ]
  },
  {
   "cell_type": "code",
   "execution_count": 14,
   "id": "4f812c96-682d-4c67-ad43-22f13cfcf768",
   "metadata": {},
   "outputs": [
    {
     "data": {
      "text/plain": [
       "['Lionel Messi',\n",
       " 'Cristiano Ronaldo',\n",
       " 'Neymar Jr.',\n",
       " 'Kylian Mbappé',\n",
       " 'Robert Lewandowski']"
      ]
     },
     "execution_count": 14,
     "metadata": {},
     "output_type": "execute_result"
    }
   ],
   "source": [
    "output_parser = CommaSeparatedListOutputParser()\n",
    "format_instructions = output_parser.get_format_instructions()\n",
    "prompt = ChatPromptTemplate.from_template(\"List top 5 {x}.\" + output_parser.get_format_instructions())\n",
    "chain = prompt | llm | output_parser\n",
    "chain.invoke({\"x\":\"Players\"})"
   ]
  },
  {
   "cell_type": "code",
   "execution_count": 13,
   "id": "e4a14dee-92c5-455d-a058-0ce29b3ed98b",
   "metadata": {},
   "outputs": [
    {
     "data": {
      "text/plain": [
       "['Lionel Messi',\n",
       " 'Cristiano Ronaldo',\n",
       " 'Neymar Jr',\n",
       " 'Kevin De Bruyne',\n",
       " 'Robert Lewandowski']"
      ]
     },
     "execution_count": 13,
     "metadata": {},
     "output_type": "execute_result"
    }
   ],
   "source": [
    "output_parser = CommaSeparatedListOutputParser()\n",
    "format_instructions = output_parser.get_format_instructions()\n",
    "prompt = ChatPromptTemplate.from_template(\"List top 5 {x}\\n{format_instructions}\")\n",
    "chain = prompt | llm | output_parser\n",
    "chain.invoke({\"x\":\"Players\", \"format_instructions\": format_instructions})"
   ]
  },
  {
   "cell_type": "code",
   "execution_count": 23,
   "id": "3485136a-2c1c-4c47-b80c-aebbb9e084d7",
   "metadata": {},
   "outputs": [],
   "source": [
    "human_template = \"List top 5 {x}\\n{format_instructions}\"\n",
    "human_message = HumanMessagePromptTemplate.from_template(human_template)\n",
    "chat_prompt = ChatPromptTemplate.from_messages([human_message])"
   ]
  },
  {
   "cell_type": "code",
   "execution_count": 24,
   "id": "f8814f3f-80f8-4e6e-9c76-a70aa6aad48b",
   "metadata": {},
   "outputs": [],
   "source": [
    "chat_message = chat_prompt.format_prompt(x=\"Players\", format_instructions=format_instructions).to_messages()"
   ]
  },
  {
   "cell_type": "code",
   "execution_count": 25,
   "id": "47fa6bf5-eb16-4456-a5bf-53c39248f77d",
   "metadata": {},
   "outputs": [
    {
     "data": {
      "text/plain": [
       "['Lionel Messi',\n",
       " 'Cristiano Ronaldo',\n",
       " 'Neymar Jr',\n",
       " 'Robert Lewandowski',\n",
       " 'Kevin De Bruyne']"
      ]
     },
     "execution_count": 25,
     "metadata": {},
     "output_type": "execute_result"
    }
   ],
   "source": [
    "chain = ChatPromptTemplate.from_messages(chat_message) | llm | output_parser\n",
    "chain.invoke({})"
   ]
  },
  {
   "cell_type": "code",
   "execution_count": 26,
   "id": "51092793-d80f-4706-ad26-76152e1a9f5e",
   "metadata": {},
   "outputs": [
    {
     "data": {
      "text/plain": [
       "['Lionel Messi',\n",
       " 'Cristiano Ronaldo',\n",
       " 'Neymar',\n",
       " 'Kylian Mbappe',\n",
       " 'Mohamed Salah']"
      ]
     },
     "execution_count": 26,
     "metadata": {},
     "output_type": "execute_result"
    }
   ],
   "source": [
    "human_template = \"List top 5 {x}\\n{format_instructions}\"\n",
    "human_message = HumanMessagePromptTemplate.from_template(human_template)\n",
    "chat_prompt = ChatPromptTemplate.from_messages([human_message])\n",
    "chain = chat_prompt | llm | output_parser\n",
    "chain.invoke({\"x\":\"Players\", \"format_instructions\": format_instructions})"
   ]
  },
  {
   "cell_type": "code",
   "execution_count": null,
   "id": "5f0a9390-0ea4-4b6e-818e-eecc2159793f",
   "metadata": {},
   "outputs": [],
   "source": []
  }
 ],
 "metadata": {
  "kernelspec": {
   "display_name": "Python 3 (ipykernel)",
   "language": "python",
   "name": "python3"
  },
  "language_info": {
   "codemirror_mode": {
    "name": "ipython",
    "version": 3
   },
   "file_extension": ".py",
   "mimetype": "text/x-python",
   "name": "python",
   "nbconvert_exporter": "python",
   "pygments_lexer": "ipython3",
   "version": "3.11.6"
  }
 },
 "nbformat": 4,
 "nbformat_minor": 5
}
