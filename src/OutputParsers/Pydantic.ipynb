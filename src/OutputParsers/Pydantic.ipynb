{
 "cells": [
  {
   "cell_type": "code",
   "execution_count": 15,
   "id": "650c0a44-e64c-4043-93d1-72656ca95611",
   "metadata": {},
   "outputs": [],
   "source": [
    "import os\n",
    "from dotenv import load_dotenv\n",
    "from langchain.chat_models import AzureChatOpenAI\n",
    "from langchain.output_parsers import PydanticOutputParser\n",
    "from langchain.prompts import HumanMessagePromptTemplate, ChatPromptTemplate\n",
    "from pydantic import BaseModel, Field\n",
    "load_dotenv()\n",
    "import warnings\n",
    "warnings.filterwarnings(action=\"ignore\")"
   ]
  },
  {
   "cell_type": "code",
   "execution_count": 5,
   "id": "c80ab10a-899d-4415-8c3d-2727933a3539",
   "metadata": {},
   "outputs": [],
   "source": [
    "os.environ[\"REQUESTS_CA_BUNDLE\"] = r\"../../ca-bundle-full.crt\""
   ]
  },
  {
   "cell_type": "code",
   "execution_count": 6,
   "id": "5e740fab-d185-4034-95cf-b3fb28f140cf",
   "metadata": {},
   "outputs": [],
   "source": [
    "llm = AzureChatOpenAI(\n",
    "    deployment_name=os.environ[\"AZURE_DEPLOYMENT_NAME\"],\n",
    "    openai_api_version=os.environ[\"OPENAI_API_VERSION\"],\n",
    "    openai_api_base=os.environ[\"OPENAI_API_BASE\"],\n",
    "    openai_api_key=os.environ[\"OPENAI_API_KEY\"],\n",
    "    openai_api_type=os.environ[\"OPENAI_API_TYPE\"],\n",
    ") "
   ]
  },
  {
   "cell_type": "code",
   "execution_count": 10,
   "id": "0f3d9178-6b68-4064-9e26-ab582f554422",
   "metadata": {},
   "outputs": [],
   "source": [
    "class Playlist(BaseModel):\n",
    "    name: str = Field(description=\"Name of the playlist\")\n",
    "    songs: list = Field(description=\"A list of songs in the playlist\")"
   ]
  },
  {
   "cell_type": "code",
   "execution_count": 13,
   "id": "a438efce-4e41-48ac-947e-ede7d4c5c860",
   "metadata": {},
   "outputs": [],
   "source": [
    "output_parser = PydanticOutputParser(pydantic_object = Playlist)\n",
    "format_instructions = output_parser.get_format_instructions()"
   ]
  },
  {
   "cell_type": "code",
   "execution_count": 14,
   "id": "87457163-31e2-4154-8f20-13c33fe36dd5",
   "metadata": {},
   "outputs": [
    {
     "data": {
      "text/plain": [
       "'The output should be formatted as a JSON instance that conforms to the JSON schema below.\\n\\nAs an example, for the schema {\"properties\": {\"foo\": {\"title\": \"Foo\", \"description\": \"a list of strings\", \"type\": \"array\", \"items\": {\"type\": \"string\"}}}, \"required\": [\"foo\"]}\\nthe object {\"foo\": [\"bar\", \"baz\"]} is a well-formatted instance of the schema. The object {\"properties\": {\"foo\": [\"bar\", \"baz\"]}} is not well-formatted.\\n\\nHere is the output schema:\\n```\\n{\"properties\": {\"name\": {\"description\": \"Name of the playlist\", \"title\": \"Name\", \"type\": \"string\"}, \"songs\": {\"description\": \"A list of songs in the playlist\", \"items\": {}, \"title\": \"Songs\", \"type\": \"array\"}}, \"required\": [\"name\", \"songs\"]}\\n```'"
      ]
     },
     "execution_count": 14,
     "metadata": {},
     "output_type": "execute_result"
    }
   ],
   "source": [
    "format_instructions"
   ]
  },
  {
   "cell_type": "code",
   "execution_count": 17,
   "id": "096b308b-6a2a-415e-b607-2f67981d2650",
   "metadata": {},
   "outputs": [
    {
     "data": {
      "text/plain": [
       "Playlist(name='Disco Fever', songs=[\"Stayin' Alive\", 'I Will Survive', 'Dancing Queen', 'Le Freak', 'Funky Town', 'Super Freak', 'Boogie Wonderland', 'Y.M.C.A.', \"Don't Stop 'Til You Get Enough\", 'You Should Be Dancing'])"
      ]
     },
     "execution_count": 17,
     "metadata": {},
     "output_type": "execute_result"
    }
   ],
   "source": [
    "human_text = \"{instruction}\\n{format_instructions}\"\n",
    "message = HumanMessagePromptTemplate.from_template(human_text)\n",
    "prompt = ChatPromptTemplate.from_messages([message])\n",
    "\n",
    "chain = prompt | llm | output_parser\n",
    "chain.invoke({\"instruction\":\"Create a playlist of disco songs\",\"format_instructions\":format_instructions})"
   ]
  },
  {
   "cell_type": "code",
   "execution_count": null,
   "id": "98a36b21-3f73-459b-9d60-8a9185f38d3d",
   "metadata": {},
   "outputs": [],
   "source": []
  }
 ],
 "metadata": {
  "kernelspec": {
   "display_name": "Python 3 (ipykernel)",
   "language": "python",
   "name": "python3"
  },
  "language_info": {
   "codemirror_mode": {
    "name": "ipython",
    "version": 3
   },
   "file_extension": ".py",
   "mimetype": "text/x-python",
   "name": "python",
   "nbconvert_exporter": "python",
   "pygments_lexer": "ipython3",
   "version": "3.11.6"
  }
 },
 "nbformat": 4,
 "nbformat_minor": 5
}
