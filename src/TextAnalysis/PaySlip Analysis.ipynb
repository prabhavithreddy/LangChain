{
 "cells": [
  {
   "cell_type": "code",
   "execution_count": 1,
   "id": "55200733-c69f-41fd-a019-f97ce1e562a4",
   "metadata": {},
   "outputs": [],
   "source": [
    "import os\n",
    "from dotenv import load_dotenv\n",
    "from langchain.chat_models import AzureChatOpenAI\n",
    "from langchain.output_parsers import PydanticOutputParser\n",
    "from langchain.prompts import HumanMessagePromptTemplate, ChatPromptTemplate\n",
    "from langchain.memory import ConversationBufferMemory\n",
    "from langchain.chains import ConversationChain\n",
    "from pydantic import BaseModel, Field\n",
    "load_dotenv()\n",
    "import warnings\n",
    "warnings.filterwarnings(action=\"ignore\")"
   ]
  },
  {
   "cell_type": "code",
   "execution_count": 2,
   "id": "3eda1351-d285-452c-b28d-9af7c1f56afa",
   "metadata": {},
   "outputs": [],
   "source": [
    "os.environ[\"REQUESTS_CA_BUNDLE\"] = r\"../../ca-bundle-full.crt\""
   ]
  },
  {
   "cell_type": "code",
   "execution_count": 3,
   "id": "1313cdd6-570b-47c2-a4f7-f241496c23d4",
   "metadata": {},
   "outputs": [],
   "source": [
    "llm = AzureChatOpenAI(\n",
    "    deployment_name=os.environ[\"AZURE_DEPLOYMENT_NAME\"],\n",
    "    openai_api_version=os.environ[\"OPENAI_API_VERSION\"],\n",
    "    openai_api_base=os.environ[\"OPENAI_API_BASE\"],\n",
    "    openai_api_key=os.environ[\"OPENAI_API_KEY\"],\n",
    "    openai_api_type=os.environ[\"OPENAI_API_TYPE\"],\n",
    ") "
   ]
  },
  {
   "cell_type": "code",
   "execution_count": 4,
   "id": "6ac6b78b-ff29-4b98-a672-b2d84413fcd8",
   "metadata": {},
   "outputs": [],
   "source": [
    "pay_slip_data = \"\"\"\n",
    "EMPLOYEE CODE\t1004567\n",
    "NAME\tRahul Raj\n",
    "BANK NAME\tNEW BANK OF INDIA\n",
    "BANK ACCOUNT NUMBER\t123456789101\n",
    "PAN\tABCDE1234F\n",
    "PF ACCOUNT NO.\tAP/HYD/98765/4321\n",
    "PAID DAYS\t31\n",
    "EARNINGS\tACTUALS\tAMOUNT\tYTD\n",
    "BASIC\t24,765.00\t24,765.00\t48,705.00\n",
    "HRA\t9,906.00\t9,906.00\t19,482.00\n",
    "CONVEYANCE\t1,600.00\t1,600.00\t3,147.00\n",
    "SPECIAL ALLOWANCE\t31,985.00\t31,985.00\t62,904.00\n",
    " \t \t \t \n",
    "Gross Earnings\t68,256.00\t68,256.00\t134,238.00\n",
    "DEDUCTIONS\tAMOUNT\tYTD\n",
    "PF AMOUNT\t2,972.00\t5,845.00\n",
    "PROFESSIONAL TAX\t200.00\t400.00\n",
    "INCOME TAX ON SALARY\t1,167.00\t1,167.00\n",
    "LABOUR WELFARE FUND\t2.00\t2.00\n",
    "FOOD RECOVERY\t540.00\t870.00\n",
    "Gross Deductions\t4,881.00\t8,284.00\n",
    "Net Transfer\t: 63,375.00\n",
    "IN WORDS\t: Rupees Sixty Three Thousand Three Hundred And Seventy Five Only\n",
    "\"\"\""
   ]
  },
  {
   "cell_type": "code",
   "execution_count": 5,
   "id": "92c2fe94-b5e7-4b43-94c0-820b2f59e687",
   "metadata": {},
   "outputs": [],
   "source": [
    "human_text = \"{instruction}\"\n",
    "message = HumanMessagePromptTemplate.from_template(human_text)\n",
    "prompt = ChatPromptTemplate.from_messages([message])\n",
    "\n",
    "chain = prompt | llm \n",
    "result = chain.invoke({\"instruction\":\"\"\"You are an expert in finance analysis. I will be providing you a pay slip data in three backticks. Get me the below data.\\n\n",
    "              1. Employee Name\n",
    "              2. Bank Name\n",
    "              3. Gross Earnings\n",
    "              4. Income Tax on Salary\n",
    "              ```\"\"\"+pay_slip_data+\"```\"})"
   ]
  },
  {
   "cell_type": "code",
   "execution_count": 6,
   "id": "78a32f7b-6bd0-49a5-988b-6a034f77bd37",
   "metadata": {},
   "outputs": [
    {
     "name": "stdout",
     "output_type": "stream",
     "text": [
      "Based on the provided pay slip data, the requested information is as follows:\n",
      "\n",
      "1. Employee Name: Rahul Raj\n",
      "2. Bank Name: NEW BANK OF INDIA\n",
      "3. Gross Earnings: 68,256.00\n",
      "4. Income Tax on Salary: 1,167.00\n"
     ]
    }
   ],
   "source": [
    "print(result.content)"
   ]
  },
  {
   "cell_type": "code",
   "execution_count": 7,
   "id": "0e954266-ba2b-46f8-9106-e489fe3d03cc",
   "metadata": {},
   "outputs": [
    {
     "name": "stdout",
     "output_type": "stream",
     "text": [
      "The percentage of income tax on salary compared to gross earnings varies depending on the country and the individual's income level. In general, income tax rates are progressive, meaning they increase as income levels rise. \n",
      "\n",
      "For example, in the United States, the income tax rate ranges from 10% to 37% for individuals, depending on their income bracket. However, there are also various deductions, credits, and exemptions that can affect the final amount of income tax owed.\n",
      "\n",
      "In the United Kingdom, the income tax rates for the tax year 2021/2022 are as follows:\n",
      "- 0% on earnings up to £12,570\n",
      "- 20% on earnings between £12,571 and £50,270\n",
      "- 40% on earnings between £50,271 and £150,000\n",
      "- 45% on earnings over £150,000\n",
      "\n",
      "Again, these rates can be subject to various deductions and allowances.\n",
      "\n",
      "It is important to note that these rates can change over time and can vary significantly between different countries. It is always advisable to consult with a tax professional or refer to the tax authority in your specific country for accurate and up-to-date information.\n"
     ]
    }
   ],
   "source": [
    "result = chain.invoke({\"instruction\":\"What is the percentage of Income Tax on Salary compared to Gross Earnings\"})\n",
    "print(result.content)"
   ]
  },
  {
   "cell_type": "code",
   "execution_count": 8,
   "id": "5edfdce9-e0f9-4d3a-adfb-0c72b6b40d1a",
   "metadata": {},
   "outputs": [
    {
     "name": "stdout",
     "output_type": "stream",
     "text": [
      "Sure! I have analyzed the pay slip data you provided. Here are the details you requested:\n",
      "\n",
      "1. Employee Name: Rahul Raj\n",
      "2. Bank Name: NEW BANK OF INDIA\n",
      "3. Gross Earnings: Rs. 68,256.00\n",
      "4. Income Tax on Salary: Rs. 1,167.00\n",
      "\n",
      "Is there anything else you would like to know about the pay slip data?\n"
     ]
    }
   ],
   "source": [
    "conversation = ConversationChain(\n",
    "    llm=llm,\n",
    "    verbose=False,\n",
    "    memory=ConversationBufferMemory()\n",
    ")\n",
    "\n",
    "result = conversation.predict(input=\"\"\"You are an expert in finance analysis. I will be providing you a pay slip data in three backticks. Get me the below data.\\n\n",
    "              1. Employee Name\n",
    "              2. Bank Name\n",
    "              3. Gross Earnings\n",
    "              4. Income Tax on Salary\n",
    "              ```\"\"\"+pay_slip_data+\"```\")\n",
    "print(result)"
   ]
  },
  {
   "cell_type": "code",
   "execution_count": 9,
   "id": "75dfca6a-e3da-4d75-b8de-3daf9ba65337",
   "metadata": {},
   "outputs": [
    {
     "name": "stdout",
     "output_type": "stream",
     "text": [
      "To calculate the percentage of Income Tax on Salary compared to Gross Earnings, we can use the formula:\n",
      "\n",
      "Percentage = (Income Tax on Salary / Gross Earnings) * 100\n",
      "\n",
      "In this case, the Income Tax on Salary is Rs. 1,167.00 and the Gross Earnings is Rs. 68,256.00.\n",
      "\n",
      "So, the percentage of Income Tax on Salary compared to Gross Earnings is:\n",
      "\n",
      "(1,167.00 / 68,256.00) * 100 ≈ 1.71%\n",
      "\n",
      "Please note that the calculated percentage is approximate. Let me know if there's anything else I can assist you with!\n"
     ]
    }
   ],
   "source": [
    "result = conversation.predict(input=\"What is the percentage of Income Tax on Salary compared to Gross Earnings\")\n",
    "print(result)"
   ]
  },
  {
   "cell_type": "code",
   "execution_count": 10,
   "id": "0efcf9ad-4764-4932-bf55-5ed4f4117d6c",
   "metadata": {},
   "outputs": [
    {
     "name": "stdout",
     "output_type": "stream",
     "text": [
      "Sure! Here are the percentages of the mentioned components with respect to Basic:\n",
      "\n",
      "1. HRA: 39.99%\n",
      "2. Conveyance: 6.47%\n",
      "3. Special Allowance: 129.20%\n",
      "4. PF Amount: 12.02%\n"
     ]
    }
   ],
   "source": [
    "result = conversation.predict(input=\"\"\"For the below components calculate the percentage w.r.t Basic\\n 1. HRA\\n 2.Conveyance\\n3.Special Allowance\\n4.PF Amount.\n",
    "Just show the result, please don't show any calcualtions\"\"\")\n",
    "print(result)"
   ]
  },
  {
   "cell_type": "code",
   "execution_count": 11,
   "id": "089d9219-8008-401e-80a1-f8a5990e17a7",
   "metadata": {},
   "outputs": [
    {
     "name": "stdout",
     "output_type": "stream",
     "text": [
      "To calculate the total tax to be paid for the entire fiscal year, we need to consider the Year-to-Date (YTD) values for the Income Tax on Salary. \n",
      "\n",
      "From the pay slip data you provided, the YTD value for Income Tax on Salary is Rs. 1,167.00.\n",
      "\n",
      "Please note that without additional information about the tax brackets, deductions, and exemptions, it is not possible to accurately determine the total tax to be paid for the entire fiscal year. It would be best to consult with a tax professional or refer to the relevant tax regulations for an accurate calculation.\n"
     ]
    }
   ],
   "source": [
    "result = conversation.predict(input=\"What could be the total tax to be paid for the entire fiscal year?\")\n",
    "print(result)"
   ]
  },
  {
   "cell_type": "code",
   "execution_count": 15,
   "id": "21d36e5c-9e07-4bc2-be84-9c5249eeae54",
   "metadata": {},
   "outputs": [
    {
     "name": "stdout",
     "output_type": "stream",
     "text": [
      "To calculate the total tax to be paid for the entire fiscal year, we can use the hint provided:\n",
      "\n",
      "Total Tax = Income Tax on Salary per Month * 12\n",
      "\n",
      "From the pay slip data you provided, the Income Tax on Salary is Rs. 1,167.00. Assuming this value is the monthly tax, we can calculate the total tax for the entire fiscal year:\n",
      "\n",
      "Total Tax = 1,167.00 * 12 = Rs. 14,004.00\n",
      "\n",
      "Please note that this calculation is based on the assumption that the provided value of Rs. 1,167.00 is the monthly tax. However, without additional information about the tax brackets, deductions, and exemptions, this calculation may not be accurate. It is always recommended to consult with a tax professional or refer to the relevant tax regulations for an accurate calculation of the total tax for the entire fiscal year.\n"
     ]
    }
   ],
   "source": [
    "result = conversation.predict(input=\"What could be the total tax to be paid for the entire fiscal year? Hint: Multiply Income Tax on Salary per Month * 12\")\n",
    "print(result)"
   ]
  },
  {
   "cell_type": "code",
   "execution_count": 18,
   "id": "68cd1825-387f-4823-9a3d-7d1a8bf93aaa",
   "metadata": {},
   "outputs": [
    {
     "name": "stdout",
     "output_type": "stream",
     "text": [
      "To verify whether the Net Transfer amount is correct or wrong, we need to calculate it based on the provided pay slip data.\n",
      "\n",
      "From the pay slip data you provided, the Gross Earnings is Rs. 68,256.00 and the Gross Deductions is Rs. 4,881.00.\n",
      "\n",
      "To calculate the Net Transfer, we subtract the Gross Deductions from the Gross Earnings:\n",
      "\n",
      "Net Transfer = Gross Earnings - Gross Deductions\n",
      "               = Rs. 68,256.00 - Rs. 4,881.00\n",
      "               = Rs. 63,375.00\n",
      "\n",
      "According to the provided pay slip data, the Net Transfer amount is Rs. 63,375.00.\n",
      "\n",
      "If you have any specific concerns or doubts about the Net Transfer amount, please let me know and I'll be happy to assist you further.\n"
     ]
    }
   ],
   "source": [
    "result = conversation.predict(input=\"Verify whether the Net Transfer is correct or wrong?\")\n",
    "print(result)"
   ]
  },
  {
   "cell_type": "code",
   "execution_count": 19,
   "id": "cf99807b-3bcf-4f46-b345-c2a028ff96dc",
   "metadata": {},
   "outputs": [
    {
     "name": "stdout",
     "output_type": "stream",
     "text": [
      "Based on the provided pay slip data, the Net Transfer amount is Rs. 63,375.00. In words, it can be written as \"Rupees Sixty Three Thousand Three Hundred And Seventy Five Only.\"\n"
     ]
    }
   ],
   "source": [
    "result = conversation.predict(input=\"I need Net Transfer in words\")\n",
    "print(result)"
   ]
  },
  {
   "cell_type": "code",
   "execution_count": null,
   "id": "cc7dedaa-20c3-470d-9782-d22959fb2b54",
   "metadata": {},
   "outputs": [],
   "source": []
  }
 ],
 "metadata": {
  "kernelspec": {
   "display_name": "Python 3 (ipykernel)",
   "language": "python",
   "name": "python3"
  },
  "language_info": {
   "codemirror_mode": {
    "name": "ipython",
    "version": 3
   },
   "file_extension": ".py",
   "mimetype": "text/x-python",
   "name": "python",
   "nbconvert_exporter": "python",
   "pygments_lexer": "ipython3",
   "version": "3.11.6"
  }
 },
 "nbformat": 4,
 "nbformat_minor": 5
}
