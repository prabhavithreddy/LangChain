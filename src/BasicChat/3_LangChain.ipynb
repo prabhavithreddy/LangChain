{
 "cells": [
  {
   "cell_type": "markdown",
   "id": "2fce3edc-aa76-49cc-b0c0-77cf4cf82312",
   "metadata": {},
   "source": [
    "## Prompt Template"
   ]
  },
  {
   "cell_type": "code",
   "execution_count": 1,
   "id": "923f22a9-8bcf-47fe-9b49-f0718db70147",
   "metadata": {},
   "outputs": [],
   "source": [
    "import os\n",
    "from langchain.chat_models import AzureChatOpenAI"
   ]
  },
  {
   "cell_type": "code",
   "execution_count": 14,
   "id": "0f932a1e-399d-4b03-b428-dee951ebc372",
   "metadata": {},
   "outputs": [],
   "source": [
    "import openai\n",
    "import os\n",
    "from langchain.schema import AIMessage, HumanMessage, SystemMessage\n",
    "from langchain.chat_models import AzureChatOpenAI\n",
    "from langchain import PromptTemplate, LLMChain"
   ]
  },
  {
   "cell_type": "code",
   "execution_count": 15,
   "id": "8e4d44e7-fb8a-45b9-a1d0-771f9869b031",
   "metadata": {},
   "outputs": [],
   "source": [
    "api_version = \"2023-03-15-preview\"\n",
    "os.environ[\"AZURE_OPENAI_ENDPOINT\"] = os.getenv(\"OPENAI_ENDPOINT\")\n",
    "os.environ[\"AZURE_OPENAI_API_KEY\"] = os.getenv(\"OPENAI_API_KEY\")\n",
    "engine = \"gpt-35-turbo\"\n",
    "os.environ[\"REQUESTS_CA_BUNDLE\"] = \"ca-bundle-full.crt\""
   ]
  },
  {
   "cell_type": "code",
   "execution_count": 17,
   "id": "07654eee-b6ab-4443-935f-50c7c7eda148",
   "metadata": {},
   "outputs": [],
   "source": [
    "template = PromptTemplate(input_variables=[], template = \"What is chemistry?\")"
   ]
  },
  {
   "cell_type": "code",
   "execution_count": 18,
   "id": "c39634fa-68ed-4c60-84b5-137c85450086",
   "metadata": {},
   "outputs": [
    {
     "data": {
      "text/plain": [
       "PromptTemplate(input_variables=[], template='What is chemistry?')"
      ]
     },
     "execution_count": 18,
     "metadata": {},
     "output_type": "execute_result"
    }
   ],
   "source": [
    "template"
   ]
  },
  {
   "cell_type": "code",
   "execution_count": 19,
   "id": "03d41346-4ba0-4422-bfae-3273846e6161",
   "metadata": {},
   "outputs": [
    {
     "data": {
      "text/plain": [
       "'What is chemistry?'"
      ]
     },
     "execution_count": 19,
     "metadata": {},
     "output_type": "execute_result"
    }
   ],
   "source": [
    "template.format()"
   ]
  },
  {
   "cell_type": "code",
   "execution_count": 20,
   "id": "c1bc3c29-d5ad-401f-b61f-b8901c0a3f13",
   "metadata": {},
   "outputs": [],
   "source": [
    "llm = AzureChatOpenAI(api_version=api_version, azure_deployment=engine, max_tokens=100)"
   ]
  },
  {
   "cell_type": "code",
   "execution_count": 27,
   "id": "ea349f53-4ef5-4e67-85f6-8074686b3e09",
   "metadata": {},
   "outputs": [
    {
     "name": "stdout",
     "output_type": "stream",
     "text": [
      "content='Chemistry is the scientific study of matter, its properties, composition, structure, behavior, and the changes it undergoes during chemical reactions. It involves the study of atoms, molecules, and their interactions to understand the various substances and materials that make up the physical world. Chemistry provides insights into the fundamental principles governing the behavior of matter and plays a crucial role in fields such as medicine, materials science, environmental science, and energy production.'\n"
     ]
    }
   ],
   "source": [
    "print(llm([HumanMessage(content=template.format())]))"
   ]
  },
  {
   "cell_type": "code",
   "execution_count": 33,
   "id": "45e090c9-0400-4fed-9414-bc3bc7e0e373",
   "metadata": {},
   "outputs": [],
   "source": [
    "def describe_subject(subject:str) -> str:\n",
    "    prompt = PromptTemplate(input_variables=[\"subject\"], template=\"What is {subject}?\")\n",
    "    return llm([HumanMessage(content=prompt.format(subject=subject))])"
   ]
  },
  {
   "cell_type": "code",
   "execution_count": 34,
   "id": "97e38c27-754d-4f75-be06-b957b9871e5a",
   "metadata": {},
   "outputs": [
    {
     "data": {
      "text/plain": [
       "AIMessage(content='Machine learning is a subset of artificial intelligence that involves the development of algorithms and models that allow computers to learn and make predictions or decisions without being explicitly programmed. It is based on the idea that computers can learn from and analyze large amounts of data to identify patterns, make inferences, and improve performance over time. Machine learning algorithms can be trained on historical data to recognize patterns and relationships, and then apply this knowledge to new data to make predictions or take actions. It finds applications in various fields such as')"
      ]
     },
     "execution_count": 34,
     "metadata": {},
     "output_type": "execute_result"
    }
   ],
   "source": [
    "describe_subject(\"Machine Learning\")"
   ]
  },
  {
   "cell_type": "code",
   "execution_count": 35,
   "id": "3bf30b81-82fb-4c94-bf3b-7fe84cd55032",
   "metadata": {},
   "outputs": [
    {
     "data": {
      "text/plain": [
       "AIMessage(content='Software engineering is a discipline that involves designing, developing, and maintaining software systems. It encompasses various activities such as requirements analysis, software design, coding, testing, deployment, and maintenance. The goal of software engineering is to create high-quality software that meets user requirements, is reliable, scalable, and efficient. It involves applying engineering principles and best practices to ensure that software is developed in a systematic and disciplined manner, following standard processes and methodologies. Software engineers use programming languages, tools, frameworks, and methodologies')"
      ]
     },
     "execution_count": 35,
     "metadata": {},
     "output_type": "execute_result"
    }
   ],
   "source": [
    "describe_subject(\"Software Engineering\")"
   ]
  },
  {
   "cell_type": "code",
   "execution_count": 36,
   "id": "ba39a598-d5b2-450d-9e0d-f3b6f4f0216b",
   "metadata": {},
   "outputs": [],
   "source": [
    "from langchain.prompts import ChatPromptTemplate, SystemMessagePromptTemplate, AIMessagePromptTemplate, HumanMessagePromptTemplate"
   ]
  },
  {
   "cell_type": "code",
   "execution_count": 37,
   "id": "00407379-c5b7-46a4-a9c2-0e6f93d1f949",
   "metadata": {},
   "outputs": [],
   "source": [
    "def consult(expertise, question):\n",
    "    system_template = 'You are a consultant that is an expert in {expertise}'\n",
    "    system_message = SystemMessagePromptTemplate.from_template(system_template)\n",
    "\n",
    "    human_template = \"{question}\"\n",
    "    human_message = HumanMessagePromptTemplate.from_template(human_template)\n",
    "\n",
    "    chat_prompt = ChatPromptTemplate.from_messages([system_message, human_message])\n",
    "    prompt = chat_prompt.format_prompt(expertise=expertise, question=question).to_messages()\n",
    "    reply = llm(prompt)\n",
    "    return reply.content"
   ]
  },
  {
   "cell_type": "code",
   "execution_count": 38,
   "id": "7d2e92f9-faf1-491c-9708-6252311024e4",
   "metadata": {},
   "outputs": [
    {
     "data": {
      "text/plain": [
       "\"I'm not a doctor, but I can offer some general advice. Heartburn, also known as acid reflux, is a common condition that occurs when stomach acid flows back up into the esophagus, causing a burning sensation in the chest. Here are a few suggestions that may help alleviate heartburn:\\n\\n1. Avoid trigger foods: Certain foods and beverages can trigger heartburn, such as spicy or fatty foods, citrus fruits, tomatoes, chocolate, caffeine, and alcohol. Try to identify and avoid\""
      ]
     },
     "execution_count": 38,
     "metadata": {},
     "output_type": "execute_result"
    }
   ],
   "source": [
    "consult(\"General Physician\", \"I have a heart burn\")"
   ]
  },
  {
   "cell_type": "code",
   "execution_count": null,
   "id": "e82a1892-9427-4026-9f14-99044a8bd843",
   "metadata": {},
   "outputs": [],
   "source": []
  },
  {
   "cell_type": "code",
   "execution_count": null,
   "id": "feed0822-5a39-4f84-95bd-f62208b9dffe",
   "metadata": {},
   "outputs": [],
   "source": []
  },
  {
   "cell_type": "code",
   "execution_count": null,
   "id": "0f390dba-5e44-4b91-b15f-1ea4b54b1b70",
   "metadata": {},
   "outputs": [],
   "source": []
  },
  {
   "cell_type": "code",
   "execution_count": null,
   "id": "42c4d469-1cd4-40d2-9730-cf97634e7282",
   "metadata": {},
   "outputs": [],
   "source": []
  },
  {
   "cell_type": "code",
   "execution_count": null,
   "id": "4b17aecc-2eb8-4933-a000-f5fa1d9f7474",
   "metadata": {},
   "outputs": [],
   "source": []
  }
 ],
 "metadata": {
  "kernelspec": {
   "display_name": "Python 3 (ipykernel)",
   "language": "python",
   "name": "python3"
  },
  "language_info": {
   "codemirror_mode": {
    "name": "ipython",
    "version": 3
   },
   "file_extension": ".py",
   "mimetype": "text/x-python",
   "name": "python",
   "nbconvert_exporter": "python",
   "pygments_lexer": "ipython3",
   "version": "3.11.6"
  }
 },
 "nbformat": 4,
 "nbformat_minor": 5
}
