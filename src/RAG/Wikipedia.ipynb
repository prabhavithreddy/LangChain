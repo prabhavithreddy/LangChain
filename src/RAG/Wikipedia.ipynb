{
 "cells": [
  {
   "cell_type": "markdown",
   "id": "5fe9d77b-b318-489d-957f-86234ad10afe",
   "metadata": {},
   "source": [
    "## Semantic Search using ChatGPT + LangChain"
   ]
  },
  {
   "cell_type": "markdown",
   "id": "f7f1eb42-8c54-4c41-9973-084dc96f991b",
   "metadata": {},
   "source": [
    "### Import all the necessary libraries for performing Semantic Search"
   ]
  },
  {
   "cell_type": "code",
   "execution_count": 1,
   "id": "66d4c8c1-b63b-4ae4-94e3-e10fe176e242",
   "metadata": {},
   "outputs": [],
   "source": [
    "import os\n",
    "import bs4\n",
    "from langchain import hub\n",
    "from langchain.text_splitter import RecursiveCharacterTextSplitter\n",
    "from langchain_community.document_loaders import WebBaseLoader\n",
    "from langchain_community.vectorstores import Chroma\n",
    "from langchain_core.output_parsers import StrOutputParser\n",
    "from langchain_core.runnables import RunnablePassthrough\n",
    "from langchain.embeddings.azure_openai import AzureOpenAIEmbeddings\n",
    "from langchain.chat_models import AzureChatOpenAI\n",
    "import warnings\n",
    "warnings.filterwarnings(action='ignore')"
   ]
  },
  {
   "cell_type": "markdown",
   "id": "14cb00fd-ca6e-4a71-b881-e2e6b726c949",
   "metadata": {},
   "source": [
    "### Use a certificate for communicating with OpenAPI"
   ]
  },
  {
   "cell_type": "code",
   "execution_count": 2,
   "id": "b7d1d9a8-d486-44b0-9600-df07a505181a",
   "metadata": {},
   "outputs": [],
   "source": [
    "os.environ[\"REQUESTS_CA_BUNDLE\"] = r\"../../ca-bundle-full.crt\""
   ]
  },
  {
   "cell_type": "code",
   "execution_count": 3,
   "id": "dbb86ef9-86e5-4ed0-bce9-7915ce6ab2f1",
   "metadata": {},
   "outputs": [],
   "source": [
    "# Load, chunk, and index the contents of the blog. \n",
    "# Here we are using Wikipedia as an external source and trying to analyze Rahul Dravid's page\n",
    "# Below code extracts the HTML body contents from the given URL\n",
    "loader = WebBaseLoader(\n",
    "    web_paths=(\"https://en.wikipedia.org/wiki/Rahul_Dravid\",),\n",
    "    bs_kwargs=dict(\n",
    "        parse_only=bs4.SoupStrainer(\"body\")\n",
    "    ),\n",
    ")\n",
    "docs = loader.load()"
   ]
  },
  {
   "cell_type": "code",
   "execution_count": 4,
   "id": "9ee79e17-cff0-40d1-9c05-876b0520ead0",
   "metadata": {},
   "outputs": [
    {
     "data": {
      "text/plain": [
       "'lture, see Dravidian.Rahul DravidDravid in 2012Personal informationFull\\xa0nameRahul Sharad DravidBorn (1973-01-11) 11 January 1973 (age\\xa051)Indore, Madhya Pradesh, IndiaNicknameThe Wall, The Great Wall, Jammy, Mr. Dependable[1]Height1.80\\xa0m (5\\xa0ft 11\\xa0in)BattingRight-handedBowlingRight arm off breakRoleBatsman, Part-time wicket-keeperWebsitewww.rahuldravid.comInternational informationNational sideIndia (1996–2012)Test debut (cap\\xa0207)20 June 1996\\xa0v\\xa0EnglandLast Test24 January 2012\\xa0v\\xa0AustraliaODI debut (cap\\xa095)3 April 1996\\xa0v\\xa0Sri LankaLast ODI16 September 2011\\xa0v\\xa0EnglandODI shirt no.19 (previously 5)Only T20I (cap\\xa038)31 August 2011\\xa0v\\xa0EnglandT20I shirt no.19Domestic team informationYearsTeam1990–2012Karnataka2000Kent2003Scottish Saltires2008–2010Royal Challengers Bangalore2011–2013Rajasthan RoyalsHead coaching informationYearsTeam2015–2021India U-192015–2021India A2021–IndiaCareer statisticsCompetitionTestODIFCLAMatches164344298449Runs scored13,28810,88923,79415,271Batting average52.3139.1655.3342'"
      ]
     },
     "execution_count": 4,
     "metadata": {},
     "output_type": "execute_result"
    }
   ],
   "source": [
    "# Check whether we have downloaded the right document or not\n",
    "docs[0].page_content.replace(\"\\n\",\"\")[2000:3000].replace(\"\\t\",\" \")"
   ]
  },
  {
   "cell_type": "markdown",
   "id": "d05f8729-ef36-41ce-b175-b164f93b5074",
   "metadata": {},
   "source": [
    "### Split the entire document into mulitple chunks using RecursiveCharacterTextSplitter"
   ]
  },
  {
   "cell_type": "code",
   "execution_count": 5,
   "id": "77f6b150-5eed-416d-9796-a970b6e0bfcb",
   "metadata": {},
   "outputs": [],
   "source": [
    "text_splitter = RecursiveCharacterTextSplitter(chunk_size=1000, chunk_overlap=200)\n",
    "splits = text_splitter.split_documents(docs)"
   ]
  },
  {
   "cell_type": "markdown",
   "id": "ca29dd3d-d16f-489f-9e77-0f5f2ad73ab3",
   "metadata": {},
   "source": [
    "### Create word embedding using and store them in ChromaDB"
   ]
  },
  {
   "cell_type": "code",
   "execution_count": 6,
   "id": "dd92695a-7eba-4b86-8a71-3e4e49e0a447",
   "metadata": {},
   "outputs": [],
   "source": [
    "embeddings = AzureOpenAIEmbeddings(\n",
    "    deployment=\"text-embedding-ada-002\"\n",
    ")\n",
    "vectorstore = Chroma.from_documents(documents=splits, embedding=embeddings)"
   ]
  },
  {
   "cell_type": "code",
   "execution_count": 7,
   "id": "51daa185-918c-4c9f-9eca-83e6a5c16820",
   "metadata": {},
   "outputs": [],
   "source": [
    "# Retrieve and generate using the relevant snippets of the blog.\n",
    "retriever = vectorstore.as_retriever()\n",
    "prompt = hub.pull(\"rlm/rag-prompt\")\n",
    "llm = AzureChatOpenAI(model_name=\"gpt-3.5-turbo\", azure_deployment= \"gpt-35-turbo\")"
   ]
  },
  {
   "cell_type": "code",
   "execution_count": 8,
   "id": "a825c076-5ad2-432e-a6ac-0e11fdfeb3e4",
   "metadata": {},
   "outputs": [],
   "source": [
    "def format_docs(docs):\n",
    "    return \"\\n\\n\".join(doc.page_content for doc in docs)"
   ]
  },
  {
   "cell_type": "markdown",
   "id": "da2ac246-bd78-4c59-9d87-0a35b278d486",
   "metadata": {},
   "source": [
    "### Create a RAG Chain and start asking questions"
   ]
  },
  {
   "cell_type": "code",
   "execution_count": 9,
   "id": "249c7950-c771-4d75-bb9d-d3d8fecf9edb",
   "metadata": {},
   "outputs": [],
   "source": [
    "rag_chain = (\n",
    "    {\"context\": retriever | format_docs, \"question\": RunnablePassthrough()}\n",
    "    | prompt\n",
    "    | llm\n",
    "    | StrOutputParser()\n",
    ")"
   ]
  },
  {
   "cell_type": "code",
   "execution_count": 10,
   "id": "8d2afb2f-9dae-4d80-888b-b562570e28ec",
   "metadata": {},
   "outputs": [
    {
     "data": {
      "text/plain": [
       "\"I don't know.\""
      ]
     },
     "execution_count": 10,
     "metadata": {},
     "output_type": "execute_result"
    }
   ],
   "source": [
    "# First questions which was not anwered\n",
    "rag_chain.invoke(\"How many runs Rahul Dravid scored in ODI?\")"
   ]
  },
  {
   "cell_type": "code",
   "execution_count": 11,
   "id": "5bb24619-a86c-4eea-b377-9394d0908eda",
   "metadata": {},
   "outputs": [
    {
     "data": {
      "text/plain": [
       "'The height of Rahul Dravid is 1.80 meters or 5 feet 11 inches.'"
      ]
     },
     "execution_count": 11,
     "metadata": {},
     "output_type": "execute_result"
    }
   ],
   "source": [
    "# Trying to ask Height of Rahul Dravid, the response is correct\n",
    "rag_chain.invoke(\"What is the height of Rahul Dravid?\")"
   ]
  },
  {
   "cell_type": "code",
   "execution_count": 12,
   "id": "fead517d-481e-4054-994b-4e1b4e9c3f12",
   "metadata": {},
   "outputs": [
    {
     "data": {
      "text/plain": [
       "\"Rahul Dravid attended St. Joseph's Boys High School and St Joseph's College of Commerce.\""
      ]
     },
     "execution_count": 12,
     "metadata": {},
     "output_type": "execute_result"
    }
   ],
   "source": [
    "rag_chain.invoke(\"Which schoold Rahul Dravid attended?\")"
   ]
  },
  {
   "cell_type": "code",
   "execution_count": 13,
   "id": "17921a41-1429-41bb-84b0-952266cc1f33",
   "metadata": {},
   "outputs": [
    {
     "data": {
      "text/plain": [
       "'Rahul Dravid made his international debut in 1996.'"
      ]
     },
     "execution_count": 13,
     "metadata": {},
     "output_type": "execute_result"
    }
   ],
   "source": [
    "rag_chain.invoke(\"In which year Rahul Dravid made debut?\")"
   ]
  },
  {
   "cell_type": "code",
   "execution_count": 14,
   "id": "fbcc6603-0c89-446c-9051-3b68fa8a958d",
   "metadata": {},
   "outputs": [
    {
     "data": {
      "text/plain": [
       "'Rahul Dravid was made a designated keeper against Pakistan.'"
      ]
     },
     "execution_count": 14,
     "metadata": {},
     "output_type": "execute_result"
    }
   ],
   "source": [
    "# I have fine tuned the below prompt to get relevant answer\n",
    "rag_chain.invoke(\"Against which country Rahul Dravid was made a designated keeper?\")"
   ]
  },
  {
   "cell_type": "code",
   "execution_count": 15,
   "id": "675fd586-c71f-498d-b828-6a6b69094c35",
   "metadata": {},
   "outputs": [
    {
     "data": {
      "text/plain": [
       "'The cost of the prompts until now is unknown.'"
      ]
     },
     "execution_count": 15,
     "metadata": {},
     "output_type": "execute_result"
    }
   ],
   "source": [
    "rag_chain.invoke(\"What was the cost of the prompts until now?\")"
   ]
  },
  {
   "cell_type": "code",
   "execution_count": 16,
   "id": "520a3b78-d141-4555-8b40-15e3a0b2aa44",
   "metadata": {},
   "outputs": [],
   "source": [
    "from langchain.callbacks import get_openai_callback"
   ]
  },
  {
   "cell_type": "code",
   "execution_count": 17,
   "id": "3effe049-00b0-4488-82d7-70bc1ecd5c65",
   "metadata": {},
   "outputs": [
    {
     "name": "stdout",
     "output_type": "stream",
     "text": [
      "Rahul Dravid is a former Indian cricketer and current head coach of the Indian national team. He is known for his outstanding batting technique and is considered one of the greatest batsmen in the history of cricket. Dravid has scored 24,177 runs in international cricket and has been instrumental in the success of the Indian cricket team, including winning the 2002 ICC Champions Trophy.\n",
      "Total Cost (USD): $0.0015\n"
     ]
    }
   ],
   "source": [
    "with get_openai_callback() as cb:\n",
    "    print(rag_chain.invoke(\"Tell me about Rahul Dravid in brief\"))\n",
    "    print(\n",
    "        f\"Total Cost (USD): ${format(cb.total_cost, '.4f')}\"\n",
    "    )"
   ]
  }
 ],
 "metadata": {
  "kernelspec": {
   "display_name": "Python 3 (ipykernel)",
   "language": "python",
   "name": "python3"
  },
  "language_info": {
   "codemirror_mode": {
    "name": "ipython",
    "version": 3
   },
   "file_extension": ".py",
   "mimetype": "text/x-python",
   "name": "python",
   "nbconvert_exporter": "python",
   "pygments_lexer": "ipython3",
   "version": "3.11.6"
  }
 },
 "nbformat": 4,
 "nbformat_minor": 5
}
