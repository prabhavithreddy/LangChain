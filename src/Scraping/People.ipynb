{
 "cells": [
  {
   "cell_type": "code",
   "execution_count": 1,
   "id": "9b1ede5c-56d4-449a-af09-b522aa5ed651",
   "metadata": {},
   "outputs": [],
   "source": [
    "import os\n",
    "from dotenv import load_dotenv\n",
    "from langchain.chat_models import AzureChatOpenAI\n",
    "from langchain.output_parsers import PydanticOutputParser\n",
    "from langchain.prompts import HumanMessagePromptTemplate, ChatPromptTemplate\n",
    "from pydantic import BaseModel, Field\n",
    "load_dotenv()\n",
    "import warnings\n",
    "warnings.filterwarnings(action=\"ignore\")"
   ]
  },
  {
   "cell_type": "code",
   "execution_count": 2,
   "id": "71951eb6-812d-424f-bc88-f43146175792",
   "metadata": {},
   "outputs": [],
   "source": [
    "os.environ[\"REQUESTS_CA_BUNDLE\"] = r\"../../ca-bundle-full.crt\""
   ]
  },
  {
   "cell_type": "code",
   "execution_count": 3,
   "id": "4b976aa8-f12e-4f64-9c83-014e54726974",
   "metadata": {},
   "outputs": [],
   "source": [
    "llm = AzureChatOpenAI(\n",
    "    deployment_name=os.environ[\"AZURE_DEPLOYMENT_NAME\"],\n",
    "    openai_api_version=os.environ[\"OPENAI_API_VERSION\"],\n",
    "    openai_api_base=os.environ[\"OPENAI_API_BASE\"],\n",
    "    openai_api_key=os.environ[\"OPENAI_API_KEY\"],\n",
    "    openai_api_type=os.environ[\"OPENAI_API_TYPE\"],\n",
    ") "
   ]
  },
  {
   "cell_type": "code",
   "execution_count": 46,
   "id": "65ea7cc7-b5d8-45b4-a3aa-db6e9dc17e5e",
   "metadata": {},
   "outputs": [],
   "source": [
    "#llm.invoke(\"Can you scrape a website\")"
   ]
  },
  {
   "cell_type": "code",
   "execution_count": 23,
   "id": "d7801a15-e1da-4602-9393-d395607d6070",
   "metadata": {},
   "outputs": [],
   "source": [
    "class Person(BaseModel):\n",
    "    name: str = Field(description=\"Name of the Executive\")\n",
    "    title: str = Field(description=\"Designation or title of the executive\")\n",
    "\n",
    "class Executives(BaseModel):\n",
    "    people: list[Person] = Field(description=\"List of Executive of the Company\")"
   ]
  },
  {
   "cell_type": "code",
   "execution_count": 24,
   "id": "cde4e60d-74da-4c3a-b8e9-e728f365b0d0",
   "metadata": {},
   "outputs": [],
   "source": [
    "output_parser = PydanticOutputParser(pydantic_object = Executives)\n",
    "format_instructions = output_parser.get_format_instructions()"
   ]
  },
  {
   "cell_type": "code",
   "execution_count": 35,
   "id": "717eca5a-1ee4-455b-bcf1-774b4f7ce88f",
   "metadata": {},
   "outputs": [],
   "source": [
    "#format_instructions"
   ]
  },
  {
   "cell_type": "code",
   "execution_count": 40,
   "id": "90229bed-4f84-441c-8c7d-b378435dd717",
   "metadata": {},
   "outputs": [],
   "source": [
    "human_text = \"Get all the executive names and designation of {instruction}\\n{format_instructions}\"\n",
    "message = HumanMessagePromptTemplate.from_template(human_text)\n",
    "prompt = ChatPromptTemplate.from_messages([message])\n",
    "\n",
    "chain = prompt | llm | output_parser"
   ]
  },
  {
   "cell_type": "code",
   "execution_count": 45,
   "id": "94b720bb-9451-4f93-9dac-e70a15b882ba",
   "metadata": {},
   "outputs": [
    {
     "data": {
      "text/plain": [
       "[Person(name='Tim Cook', title='CEO'),\n",
       " Person(name='Jeff Williams', title='COO'),\n",
       " Person(name='Luca Maestri', title='CFO'),\n",
       " Person(name='Katherine Adams', title='General Counsel'),\n",
       " Person(name=\"Deirdre O'Brien\", title='SVP of Retail + People'),\n",
       " Person(name='Craig Federighi', title='SVP of Software Engineering'),\n",
       " Person(name='Johny Srouji', title='SVP of Hardware Technologies'),\n",
       " Person(name='Dan Riccio', title='SVP of Hardware Engineering'),\n",
       " Person(name='Lisa Jackson', title='VP of Environment, Policy and Social Initiatives')]"
      ]
     },
     "execution_count": 45,
     "metadata": {},
     "output_type": "execute_result"
    }
   ],
   "source": [
    "chain.invoke({\"instruction\":\"Apple Inc\",\"format_instructions\":format_instructions}).people"
   ]
  },
  {
   "cell_type": "code",
   "execution_count": 47,
   "id": "a059e241-b3d4-414a-8a78-cc2adbbba9ae",
   "metadata": {},
   "outputs": [
    {
     "data": {
      "text/plain": [
       "[Person(name='Jensen Huang', title='CEO'),\n",
       " Person(name='Colette Kress', title='CFO'),\n",
       " Person(name='Debora Shoquist', title='EVP, Operations'),\n",
       " Person(name='Tony Tamasi', title='SVP, Content and Technology'),\n",
       " Person(name='Jeff Fisher', title='SVP, Gaming'),\n",
       " Person(name='Chris Malachowsky', title='Co-founder'),\n",
       " Person(name='Bill Dally', title='Chief Scientist'),\n",
       " Person(name='Aarti Shah', title='Chief Information Officer'),\n",
       " Person(name='Tim Teter', title='Senior Director, Investor Relations')]"
      ]
     },
     "execution_count": 47,
     "metadata": {},
     "output_type": "execute_result"
    }
   ],
   "source": [
    "chain.invoke({\"instruction\":\"Nvidia\",\"format_instructions\":format_instructions}).people"
   ]
  },
  {
   "cell_type": "code",
   "execution_count": null,
   "id": "f1c56872-9610-4bcd-8e79-8a232e8f7aa4",
   "metadata": {},
   "outputs": [],
   "source": []
  }
 ],
 "metadata": {
  "kernelspec": {
   "display_name": "Python 3 (ipykernel)",
   "language": "python",
   "name": "python3"
  },
  "language_info": {
   "codemirror_mode": {
    "name": "ipython",
    "version": 3
   },
   "file_extension": ".py",
   "mimetype": "text/x-python",
   "name": "python",
   "nbconvert_exporter": "python",
   "pygments_lexer": "ipython3",
   "version": "3.11.6"
  }
 },
 "nbformat": 4,
 "nbformat_minor": 5
}
