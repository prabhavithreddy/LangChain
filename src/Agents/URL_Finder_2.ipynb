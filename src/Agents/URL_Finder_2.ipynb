{
 "cells": [
  {
   "cell_type": "code",
   "execution_count": 1,
   "id": "e80e7232-0314-492c-9794-99e9a2487d90",
   "metadata": {},
   "outputs": [
    {
     "data": {
      "text/plain": [
       "True"
      ]
     },
     "execution_count": 1,
     "metadata": {},
     "output_type": "execute_result"
    }
   ],
   "source": [
    "import os\n",
    "from dotenv import load_dotenv\n",
    "from langchain.chat_models import AzureChatOpenAI\n",
    "from langchain.prompts import HumanMessagePromptTemplate, PromptTemplate\n",
    "from langchain.chains import LLMChain\n",
    "from langchain.tools import Tool\n",
    "from langchain.agents import initialize_agent, AgentType, AgentExecutor, create_openai_functions_agent\n",
    "#from langchain_community.tools.tavily_search import TavilySearchResults\n",
    "from langchain_community.tools.google_search import GoogleSearchResults\n",
    "import warnings\n",
    "warnings.filterwarnings(action='ignore')\n",
    "load_dotenv()"
   ]
  },
  {
   "cell_type": "code",
   "execution_count": 2,
   "id": "eabcf52f-e971-483f-b9e5-1b741444d2c3",
   "metadata": {},
   "outputs": [],
   "source": [
    "llm = AzureChatOpenAI(\n",
    "    deployment_name=os.environ[\"AZURE_DEPLOYMENT_NAME\"],\n",
    "    openai_api_version=os.environ[\"OPENAI_API_VERSION\"],\n",
    "    openai_api_base=os.environ[\"OPENAI_API_BASE\"],\n",
    "    openai_api_key=os.environ[\"OPENAI_API_KEY\"],\n",
    "    openai_api_type=os.environ[\"OPENAI_API_TYPE\"],\n",
    "    temperature=0\n",
    ") "
   ]
  },
  {
   "cell_type": "code",
   "execution_count": 3,
   "id": "4b04d0a2-67fc-4177-b2f4-54a5da17ee81",
   "metadata": {},
   "outputs": [
    {
     "data": {
      "text/plain": [
       "AIMessage(content='The leadership URL of FactSet is https://www.factset.com/company/leadership.')"
      ]
     },
     "execution_count": 3,
     "metadata": {},
     "output_type": "execute_result"
    }
   ],
   "source": [
    "template = \"What is the leadership url of {company}\"\n",
    "prompt = PromptTemplate.from_template(template)\n",
    "\n",
    "chain = prompt | llm\n",
    "chain.invoke({\"company\": \"FactSet\"})"
   ]
  },
  {
   "cell_type": "code",
   "execution_count": 5,
   "id": "bcdcb5bc-c3ff-47f4-8072-8d2af463a350",
   "metadata": {},
   "outputs": [],
   "source": [
    "os.environ[\"GOOGLE_CSE_ID\"] = os.environ[\"GOOGLE_CSE_ID\"]\n",
    "os.environ[\"GOOGLE_API_KEY\"] = os.environ[\"GOOGLE_API_KEY\"]"
   ]
  },
  {
   "cell_type": "code",
   "execution_count": 27,
   "id": "6afdac3f-9563-41c4-888f-7bc43b140b5c",
   "metadata": {},
   "outputs": [],
   "source": [
    "from langchain.tools import Tool\n",
    "from langchain_community.utilities import GoogleSearchAPIWrapper\n",
    "\n",
    "search = GoogleSearchAPIWrapper(k=5)\n",
    "\n",
    "tool = Tool(\n",
    "    name=\"Google Search\",\n",
    "    description=\"Search Google for recent results.\",\n",
    "    func=search.run,\n",
    ")"
   ]
  },
  {
   "cell_type": "code",
   "execution_count": 20,
   "id": "d64efd28-de57-496e-911a-b058347e84fd",
   "metadata": {},
   "outputs": [],
   "source": [
    "#search.run(\"what is the weather in Hyderabad\")"
   ]
  },
  {
   "cell_type": "code",
   "execution_count": 29,
   "id": "0e1b64bb-67ee-48d9-b1ee-8f5b20aae206",
   "metadata": {},
   "outputs": [],
   "source": [
    "url = LLMChain(llm=llm, prompt=prompt)"
   ]
  },
  {
   "cell_type": "code",
   "execution_count": 30,
   "id": "d2c8aa27-e477-4716-a9c5-eafab123e322",
   "metadata": {},
   "outputs": [],
   "source": [
    "tools = [Tool.from_function(func = search.run, name=\"URL\", description=\"Useful to find url for companies\")]"
   ]
  },
  {
   "cell_type": "code",
   "execution_count": 31,
   "id": "4fda51bf-9dcb-458c-8b53-09fd671254b0",
   "metadata": {},
   "outputs": [],
   "source": [
    "agent = initialize_agent(tools, llm, agent=AgentType.ZERO_SHOT_REACT_DESCRIPTION, verbose=True)"
   ]
  },
  {
   "cell_type": "code",
   "execution_count": 34,
   "id": "30bae812-98fd-424a-8e34-73d41a1250bf",
   "metadata": {},
   "outputs": [
    {
     "name": "stdout",
     "output_type": "stream",
     "text": [
      "\n",
      "\n",
      "\u001b[1m> Entering new AgentExecutor chain...\u001b[0m\n",
      "\u001b[32;1m\u001b[1;3mI should use the URL tool to find the URL for FactSet's leadership page.\n",
      "Action: URL\n",
      "Action Input: FactSet leadership page\u001b[0m\n",
      "Observation: \u001b[36;1m\u001b[1;3mMeet the Team · Philip Snow · Linda Huber · Helen Shan · Goran Skoko · Robert Robie · Ali van Nes · Catrina Harding · Christopher Ellis. Page 1. Index Methodology Guide for the. FactSet Japan Global Leaders ESG IndexTM. Version 1.0 – May 7, 2021. Page 2. Table of Contents. Index Methodology ... Apr 29, 2020 ... leadership team. We hold our leaders accountable for measuring ... Page 13-15. Page 21. www.factset.com. Page 1. Index Methodology Guide for the. FactSet Japan Mid & Small Cap Leaders ESG IndexTM. Version 1.0 – October 27, 2021. Page 2. Table of Contents. Basics. Content Category: Human Capital. Open:FactSet Page: Click here. Setup a Demo and Access Today: sales@factset.com. Equilar's Board Services data feed ...\u001b[0m\n",
      "Thought:\u001b[32;1m\u001b[1;3mI have found the leadership page for FactSet on their website.\n",
      "Thought: I now know the URL for FactSet's leadership page.\n",
      "Final Answer: The URL for FactSet's leadership page is www.factset.com.\u001b[0m\n",
      "\n",
      "\u001b[1m> Finished chain.\u001b[0m\n"
     ]
    },
    {
     "data": {
      "text/plain": [
       "{'input': 'As an engineer I would like to crawl www.factset.com to identify leadership url',\n",
       " 'output': \"The URL for FactSet's leadership page is www.factset.com.\"}"
      ]
     },
     "execution_count": 34,
     "metadata": {},
     "output_type": "execute_result"
    }
   ],
   "source": [
    "agent.invoke({\"input\": \"As an engineer I would like to crawl www.factset.com to identify leadership url\"})"
   ]
  },
  {
   "cell_type": "code",
   "execution_count": null,
   "id": "0ab47088-f72b-4c5a-97fc-7ec22d43b2ab",
   "metadata": {},
   "outputs": [],
   "source": []
  }
 ],
 "metadata": {
  "kernelspec": {
   "display_name": "Python 3 (ipykernel)",
   "language": "python",
   "name": "python3"
  },
  "language_info": {
   "codemirror_mode": {
    "name": "ipython",
    "version": 3
   },
   "file_extension": ".py",
   "mimetype": "text/x-python",
   "name": "python",
   "nbconvert_exporter": "python",
   "pygments_lexer": "ipython3",
   "version": "3.11.6"
  }
 },
 "nbformat": 4,
 "nbformat_minor": 5
}
