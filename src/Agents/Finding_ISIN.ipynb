{
 "cells": [
  {
   "cell_type": "code",
   "execution_count": 1,
   "id": "e80e7232-0314-492c-9794-99e9a2487d90",
   "metadata": {},
   "outputs": [
    {
     "data": {
      "text/plain": [
       "True"
      ]
     },
     "execution_count": 1,
     "metadata": {},
     "output_type": "execute_result"
    }
   ],
   "source": [
    "import os\n",
    "from dotenv import load_dotenv\n",
    "from langchain.chat_models import AzureChatOpenAI\n",
    "from langchain.prompts import HumanMessagePromptTemplate, PromptTemplate\n",
    "from langchain.chains import LLMChain\n",
    "from langchain.tools import Tool\n",
    "from langchain.agents import initialize_agent, AgentType, AgentExecutor, create_openai_functions_agent\n",
    "#from langchain_community.tools.tavily_search import TavilySearchResults\n",
    "from langchain_community.tools.google_search import GoogleSearchResults\n",
    "import warnings\n",
    "warnings.filterwarnings(action='ignore')\n",
    "load_dotenv()"
   ]
  },
  {
   "cell_type": "code",
   "execution_count": 57,
   "id": "eabcf52f-e971-483f-b9e5-1b741444d2c3",
   "metadata": {},
   "outputs": [],
   "source": [
    "llm = AzureChatOpenAI(\n",
    "    deployment_name='gpt-4-turbo',\n",
    "    openai_api_version=os.environ[\"OPENAI_API_VERSION\"],\n",
    "    openai_api_base=os.environ[\"OPENAI_API_BASE\"],\n",
    "    openai_api_key=os.environ[\"OPENAI_API_KEY\"],\n",
    "    openai_api_type=os.environ[\"OPENAI_API_TYPE\"],\n",
    "    temperature=0\n",
    ") "
   ]
  },
  {
   "cell_type": "code",
   "execution_count": 31,
   "id": "4b04d0a2-67fc-4177-b2f4-54a5da17ee81",
   "metadata": {},
   "outputs": [
    {
     "data": {
      "text/plain": [
       "AIMessage(content=\"The International Securities Identification Number (ISIN) is a unique code that identifies a specific securities issue. For Beasley Broadcast Group, Inc., Class A, you would need to look up the current ISIN on a financial database or contact the company directly, as this information can change and may not be readily available without access to a financial database or the company's investor relations department.\\n\\nAs of my last update, I do not have real-time access to financial databases to provide the current ISIN for Beasley Broadcast Group, Inc., Class A. Please check the latest financial information from a reliable source or the company's official investor relations page for the most accurate and up-to-date ISIN.\")"
      ]
     },
     "execution_count": 31,
     "metadata": {},
     "output_type": "execute_result"
    }
   ],
   "source": [
    "template = \"What is ISIN of {company}\"\n",
    "prompt = PromptTemplate.from_template(template)\n",
    "\n",
    "chain = prompt | llm\n",
    "chain.invoke({\"company\": \"Beasley Broadcast Group, Inc., Class A\"})"
   ]
  },
  {
   "cell_type": "code",
   "execution_count": 4,
   "id": "10f8d5ef-344b-471d-9d85-bd63b6e14dcd",
   "metadata": {},
   "outputs": [
    {
     "data": {
      "text/plain": [
       "AIMessage(content='The CUSIP number for Beasley Broadcast Group, Inc., Class A is 074014101.')"
      ]
     },
     "execution_count": 4,
     "metadata": {},
     "output_type": "execute_result"
    }
   ],
   "source": [
    "template = \"What is CUSIP of {company}\"\n",
    "prompt = PromptTemplate.from_template(template)\n",
    "\n",
    "chain = prompt | llm\n",
    "chain.invoke({\"company\": \"Beasley Broadcast Group, Inc., Class A\"})"
   ]
  },
  {
   "cell_type": "code",
   "execution_count": 5,
   "id": "9de3084a-327f-4107-9a83-a19f89c93bcd",
   "metadata": {},
   "outputs": [
    {
     "name": "stdout",
     "output_type": "stream",
     "text": [
      "| Company       | Coupon | Maturity Date |\n",
      "| ------------- | ------ | ------------- |\n",
      "| LLOYDS BANK PLC | 4.5%   | 04/11/2024    |\n",
      "CPU times: total: 31.2 ms\n",
      "Wall time: 1.49 s\n"
     ]
    }
   ],
   "source": [
    "%%time\n",
    "template = \"\"\"Extract coupon and maturity date from {company}. Return in markdown table format i.e. Company, Coupon, Maturity Date\n",
    "e.g.  COCA-COLA EURO 0.8% 21-03/05/2024, Company is COCA-COLA, Coupon is 0.8%, Maturity Date is 03/05/2024\n",
    "\"\"\"\n",
    "prompt = PromptTemplate.from_template(template)\n",
    "\n",
    "chain = prompt | llm\n",
    "print(chain.invoke({\"company\": \"LLOYDS BANK PLC 4.5% 14-04/11/2024\"}).content)"
   ]
  },
  {
   "cell_type": "code",
   "execution_count": 6,
   "id": "ed2d420b-aab9-4873-8a4f-e1cede33048d",
   "metadata": {},
   "outputs": [
    {
     "name": "stdout",
     "output_type": "stream",
     "text": [
      "| Company Name | CUSIP | ISIN |\n",
      "| --- | --- | --- |\n",
      "| 1ST SOURCE CORP COM | 336901103 | US3369011032 |\n",
      "| ACUITY BRANDS INC COM | 00508Y102 | US00508Y1029 |\n",
      "| AMERICOLD REALTY TRUST INC COM | 03064D108 | US03064D1081 |\n",
      "| APPLIED INDUSTRIAL TECHNOLOGIES COM | 03820C105 | US03820C1053 |\n",
      "| APTARGROUP INC COM | 038336103 | US0383361039 |\n",
      "| ATRION CORP COM | 049904105 | US0499041053 |\n",
      "| BADGER METER INC COM | 056525108 | US0565251081 |\n",
      "| CABLE ONE INC COM | 12685J105 | US12685J1051 |\n",
      "| CACTUS INC CL A | 14888D208 | US14888D2089 |\n",
      "| CAMDEN NATIONAL CORP COM | 133034108 | US1330341081 |\n",
      "\n",
      "Please note that the CUSIP and ISIN numbers are subject to change and should be verified for accuracy.\n"
     ]
    }
   ],
   "source": [
    "template = \"\"\" What is CUSIP and ISIN of {company}. Return the result in markdown table format. \n",
    "If you are not sure about a certain security return NA.\"\"\"\n",
    "prompt = PromptTemplate.from_template(template)\n",
    "\n",
    "chain = prompt | llm\n",
    "result = chain.invoke({\"company\": \"\"\"1ST SOURCE CORP  COM                \n",
    "ACUITY BRANDS INC  COM              \n",
    "AMERICOLD REALTY TRUST INC  COM\n",
    "APPLIED INDUSTRIAL TECHNOLOGIES  COM\n",
    "APTARGROUP INC  COM                 \n",
    "ATRION CORP  COM                    \n",
    "BADGER METER INC  COM               \n",
    "CABLE ONE INC  COM                  \n",
    "CACTUS INC  CL A\n",
    "CAMDEN NATIONAL CORP  COM           \"\"\"})\n",
    "print(result.content)"
   ]
  },
  {
   "cell_type": "code",
   "execution_count": 32,
   "id": "caa4bf60-0856-4a3a-9d14-1cca83d3503d",
   "metadata": {},
   "outputs": [
    {
     "name": "stdout",
     "output_type": "stream",
     "text": [
      "As an AI language model, I don't have real-time access to databases or external systems to look up current ISINs for securities. ISINs (International Securities Identification Numbers) are unique codes assigned to securities to facilitate their identification. To find the ISIN for a specific bond, you would typically use financial databases, securities exchanges, or official publications from the issuing entity.\n",
      "\n",
      "However, I can guide you on how to find the ISINs:\n",
      "\n",
      "1. **Financial Databases**: Bloomberg, Reuters, and other financial data providers allow users to search for securities by name, issuer, maturity date, and other criteria to find the ISIN.\n",
      "\n",
      "2. **National Numbering Agencies**: Each country has a numbering agency responsible for assigning ISINs. For Spanish bonds (\"BONOS Y OBLIG DEL ESTADO\"), the responsible agency is the Comisión Nacional del Mercado de Valores (CNMV). Their website or databases might have the information.\n",
      "\n",
      "3. **Securities Exchanges**: The exchange where the bonds are listed may provide a searchable database of all securities, including their ISINs.\n",
      "\n",
      "4. **The Issuer's Website**: The Spanish Treasury or the Ministry of Economy and Finance may publish bond information, including ISINs, on their official website.\n",
      "\n",
      "5. **Financial News and Publications**: Financial newspapers and websites sometimes list ISINs when discussing specific securities.\n",
      "\n",
      "Once you have the ISINs, you can present them in a markdown table like this:\n",
      "\n",
      "```markdown\n",
      "| Bond Description                  | Maturity Date | ISIN          |\n",
      "|-----------------------------------|---------------|---------------|\n",
      "| BONOS Y OBLIG DEL ESTADO 30/04/29 | 30/04/2029    | [ISIN Number] |\n",
      "| BONOS Y OBLIG DEL ESTADO 30/04/31 | 30/04/2031    | [ISIN Number] |\n",
      "| BONOS Y OBLIG DEL ESTADO 30/04/32 | 30/04/2032    | [ISIN Number] |\n",
      "| BONOS Y OBLIG DEL ESTADO 30/07/33 | 30/07/2033    | [ISIN Number] |\n",
      "| BONOS Y OBLIG DEL ESTADO 30/07/35 | 30/07/2035    | [ISIN Number] |\n",
      "```\n",
      "\n",
      "Replace `[ISIN Number]` with the actual ISINs once you have them.\n",
      "CPU times: total: 0 ns\n",
      "Wall time: 35.4 s\n"
     ]
    }
   ],
   "source": [
    "%%time\n",
    "template = \"\"\"You are an expert in securities identification, I will be providing you a list of bonds with maturity dates. \n",
    "Get the ISIN for each bond and return the output in markdown table format.\n",
    "{company}\"\"\"\n",
    "prompt = PromptTemplate.from_template(template)\n",
    "\n",
    "chain = prompt | llm\n",
    "result = chain.invoke({\"company\": \"\"\"\n",
    "BONOS Y OBLIG DEL ESTADO 30/04/2029\n",
    "BONOS Y OBLIG DEL ESTADO 30/04/2031\n",
    "BONOS Y OBLIG DEL ESTADO 30/04/2032\n",
    "BONOS Y OBLIG DEL ESTADO 30/07/2033\n",
    "BONOS Y OBLIG DEL ESTADO 30/07/2035\n",
    "\"\"\"})\n",
    "print(result.content)"
   ]
  },
  {
   "cell_type": "code",
   "execution_count": 7,
   "id": "b3a2f6ae-d69f-4caf-b28d-f32db5c75a3d",
   "metadata": {},
   "outputs": [
    {
     "name": "stdout",
     "output_type": "stream",
     "text": [
      "I'm sorry, but I couldn't find the specific ISIN for WALT DISNEY CO 1.75%24. ISINs are specific to each security and can change based on the type of security (stock, bond, etc.) and the country of issue. You may need to contact a financial advisor or use a financial database to get this information.\n",
      "CPU times: total: 0 ns\n",
      "Wall time: 2.25 s\n"
     ]
    }
   ],
   "source": [
    "%%time\n",
    "template = \"\"\" What is the ISIN of {company}. Return the result in markdown table format.\"\"\"\n",
    "prompt = PromptTemplate.from_template(template)\n",
    "\n",
    "chain = prompt | llm\n",
    "result = chain.invoke({\"company\": \"\"\"WALT DISNEY CO 1.75%24\"\"\"})\n",
    "print(result.content)"
   ]
  },
  {
   "cell_type": "code",
   "execution_count": 10,
   "id": "bcdcb5bc-c3ff-47f4-8072-8d2af463a350",
   "metadata": {},
   "outputs": [],
   "source": [
    "os.environ[\"GOOGLE_CSE_ID\"] = os.environ[\"GOOGLE_CSE_ID\"]\n",
    "os.environ[\"GOOGLE_API_KEY\"] = os.environ[\"GOOGLE_API_KEY\"]"
   ]
  },
  {
   "cell_type": "code",
   "execution_count": 39,
   "id": "6afdac3f-9563-41c4-888f-7bc43b140b5c",
   "metadata": {},
   "outputs": [],
   "source": [
    "from langchain.tools import Tool\n",
    "from langchain_community.utilities import GoogleSearchAPIWrapper\n",
    "\n",
    "search = GoogleSearchAPIWrapper(k=2)\n",
    "\n",
    "tool = Tool(\n",
    "    name=\"Google Search\",\n",
    "    description=\"Search Google for recent results.\",\n",
    "    func=search.run,\n",
    ")"
   ]
  },
  {
   "cell_type": "code",
   "execution_count": 40,
   "id": "d64efd28-de57-496e-911a-b058347e84fd",
   "metadata": {},
   "outputs": [],
   "source": [
    "#search.run(\"what is the weather in Hyderabad\")"
   ]
  },
  {
   "cell_type": "code",
   "execution_count": 58,
   "id": "0e1b64bb-67ee-48d9-b1ee-8f5b20aae206",
   "metadata": {},
   "outputs": [],
   "source": [
    "url = LLMChain(llm=llm, prompt=prompt)"
   ]
  },
  {
   "cell_type": "code",
   "execution_count": 59,
   "id": "d2c8aa27-e477-4716-a9c5-eafab123e322",
   "metadata": {},
   "outputs": [],
   "source": [
    "tools = [Tool.from_function(func = search.run, name=\"URL\", description=\"Useful to find url for companies\")]"
   ]
  },
  {
   "cell_type": "code",
   "execution_count": 60,
   "id": "4fda51bf-9dcb-458c-8b53-09fd671254b0",
   "metadata": {},
   "outputs": [],
   "source": [
    "agent = initialize_agent(tools, llm, agent=AgentType.CHAT_ZERO_SHOT_REACT_DESCRIPTION, verbose=False)"
   ]
  },
  {
   "cell_type": "code",
   "execution_count": 61,
   "id": "30bae812-98fd-424a-8e34-73d41a1250bf",
   "metadata": {},
   "outputs": [
    {
     "data": {
      "text/plain": [
       "{'input': 'Who is the CEO of Microsoft',\n",
       " 'output': 'Satya Nadella is the CEO of Microsoft.'}"
      ]
     },
     "execution_count": 61,
     "metadata": {},
     "output_type": "execute_result"
    }
   ],
   "source": [
    "agent.invoke({\"input\": \"Who is the CEO of Microsoft\"})"
   ]
  },
  {
   "cell_type": "code",
   "execution_count": 44,
   "id": "a74e6bf2-fdf0-4901-895c-288e2f98cc1b",
   "metadata": {},
   "outputs": [
    {
     "name": "stdout",
     "output_type": "stream",
     "text": [
      "| Bond Description                     | Maturity Date | ISIN         |\n",
      "|--------------------------------------|---------------|--------------|\n",
      "| BONOS Y OBLIG DEL ESTADO 30/04/2029  | 30/04/2029    | ES0000012M51 |\n",
      "| BONOS Y OBLIG DEL ESTADO 30/04/2031  | 30/04/2031    | ES0000012I32 |\n",
      "| BONOS Y OBLIG DEL ESTADO 30/04/2032  | 30/04/2032    | ES0000012411 |\n",
      "| BONOS Y OBLIG DEL ESTADO 30/07/2033  | 30/07/2033    | ES0000012L78 |\n",
      "| BONOS Y OBLIG DEL ESTADO 30/07/2035  | 30/07/2035    | ES0000012932 |\n",
      "CPU times: total: 562 ms\n",
      "Wall time: 3min 42s\n"
     ]
    }
   ],
   "source": [
    "%%time\n",
    "result = agent.invoke({\"input\": \"\"\" You are an expert in securities identification, I will be providing you a list of bonds with maturity dates. \n",
    "Get the ISIN for each bond and return the output in markdown table format.\n",
    "BONOS Y OBLIG DEL ESTADO 30/04/2029\n",
    "BONOS Y OBLIG DEL ESTADO 30/04/2031\n",
    "BONOS Y OBLIG DEL ESTADO 30/04/2032\n",
    "BONOS Y OBLIG DEL ESTADO 30/07/2033\n",
    "BONOS Y OBLIG DEL ESTADO 30/07/2035\"\"\"})\n",
    "print(result[\"output\"])"
   ]
  },
  {
   "cell_type": "code",
   "execution_count": 50,
   "id": "83e390bf-c556-4862-b51f-0c22c641a605",
   "metadata": {},
   "outputs": [
    {
     "name": "stdout",
     "output_type": "stream",
     "text": [
      "I'm sorry, but as an AI, I don't have the capability to perform web searches or access external databases to find the ISIN for these bonds.\n",
      "CPU times: total: 15.6 ms\n",
      "Wall time: 2.98 s\n"
     ]
    }
   ],
   "source": [
    "%%time\n",
    "result = agent.invoke({\"input\": \"\"\" You are an expert in securities identification, I will be providing you a list of bonds with maturity dates. \n",
    "Get the ISIN for each bond and return the output in markdown table format.\n",
    "BONOS Y OBLIG DEL ESTADO 30/04/2029\n",
    "BONOS Y OBLIG DEL ESTADO 30/04/2031\n",
    "BONOS Y OBLIG DEL ESTADO 30/04/2032\n",
    "BONOS Y OBLIG DEL ESTADO 30/07/2033\n",
    "BONOS Y OBLIG DEL ESTADO 30/07/2035\"\"\"})\n",
    "print(result[\"output\"])"
   ]
  },
  {
   "cell_type": "code",
   "execution_count": null,
   "id": "dd132e01-46e9-4458-b66b-16de33637b8a",
   "metadata": {},
   "outputs": [],
   "source": []
  }
 ],
 "metadata": {
  "kernelspec": {
   "display_name": "Python 3 (ipykernel)",
   "language": "python",
   "name": "python3"
  },
  "language_info": {
   "codemirror_mode": {
    "name": "ipython",
    "version": 3
   },
   "file_extension": ".py",
   "mimetype": "text/x-python",
   "name": "python",
   "nbconvert_exporter": "python",
   "pygments_lexer": "ipython3",
   "version": "3.11.6"
  }
 },
 "nbformat": 4,
 "nbformat_minor": 5
}
