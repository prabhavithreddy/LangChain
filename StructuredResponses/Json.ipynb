{
 "cells": [
  {
   "cell_type": "code",
   "execution_count": 1,
   "id": "018c0874-29d1-4d2b-8fdd-c34bfd8cfb65",
   "metadata": {},
   "outputs": [],
   "source": [
    "import json\n",
    "import os\n",
    "\n",
    "from langchain.callbacks import get_openai_callback\n",
    "from langchain.chat_models import AzureChatOpenAI\n",
    "from langchain.output_parsers import StructuredOutputParser, ResponseSchema\n",
    "from langchain.prompts import PromptTemplate"
   ]
  },
  {
   "cell_type": "code",
   "execution_count": 2,
   "id": "eff619d3-b976-4a8c-9fe9-07c7925ceb75",
   "metadata": {},
   "outputs": [],
   "source": [
    "# Initialize all the API-related environment variables\n",
    "os.environ[\"REQUESTS_CA_BUNDLE\"] = r\"../ca-bundle-full.crt\"\n",
    "if not os.getenv(\"AZURE_OPENAI_API_KEY\"):\n",
    "    os.environ[\"AZURE_OPENAI_API_KEY\"] = os.getenv(\"OPENAI_API_KEY\")\n",
    "if not os.getenv(\"AZURE_OPENAI_ENDPOINT\"):\n",
    "    os.environ[\"AZURE_OPENAI_ENDPOINT\"] = os.getenv(\"OPENAI_ENDPOINT\")\n",
    "engine = os.getenv(\"OPENAI_ENGINE\") if os.getenv(\"OPENAI_ENGINE\") else \"gpt-35-turbo\"\n",
    "openai_api_version = \"2023-03-15-preview\""
   ]
  },
  {
   "cell_type": "code",
   "execution_count": 3,
   "id": "9aa9b83c-dd69-42fa-b369-9c8ea97af99f",
   "metadata": {},
   "outputs": [],
   "source": [
    "def get_player_info_text(text: str) -> str:\n",
    "    '''\n",
    "        This function would return the result in plain text. \n",
    "        We have to write a custom parser to extract the necessary information\n",
    "    '''\n",
    "    prompt = PromptTemplate(\n",
    "        template=\"\"\"I would be giving you player information. \n",
    "                    Return the player name and DateOfBirth\\n{text}.\"\"\",\n",
    "        input_variables=[\"text\"],\n",
    "    )\n",
    "    azure_chat_open_ai = AzureChatOpenAI(openai_api_version=openai_api_version,\n",
    "                                         azure_deployment=engine)\n",
    "\n",
    "    chain = prompt | azure_chat_open_ai\n",
    "    with get_openai_callback() as cb:\n",
    "        response = chain.invoke({\"text\": text})\n",
    "        print(\n",
    "            f\"Total Cost (USD): ${format(cb.total_cost, '.4f')}\"\n",
    "        )\n",
    "\n",
    "    return response"
   ]
  },
  {
   "cell_type": "code",
   "execution_count": 4,
   "id": "e6146f30-9ebe-4e06-9738-b6392c9d6608",
   "metadata": {},
   "outputs": [],
   "source": [
    "def get_player_info_json(text: str) -> str:\n",
    "    '''\n",
    "        This function would return the result in JSON, but the output may not be in perfect JSON structure. \n",
    "        We have to write a custom parser to extract the necessary information\n",
    "    '''\n",
    "    prompt = PromptTemplate(\n",
    "        template=\"\"\"I would be giving you player information. \n",
    "                    Return the response in json format for the below fields\n",
    "                    \"Name\": string // Name of the player\n",
    "                    \"DateOfBirth\": string // Date of birth of the player in DD/MM/YYYY\n",
    "                    \\n{text}.\"\"\",\n",
    "        input_variables=[\"text\"],\n",
    "    )\n",
    "    azure_chat_open_ai = AzureChatOpenAI(openai_api_version=openai_api_version,\n",
    "                                         azure_deployment=engine)\n",
    "\n",
    "    chain = prompt | azure_chat_open_ai \n",
    "    with get_openai_callback() as cb:\n",
    "        response = chain.invoke({\"text\": text})\n",
    "        print(\n",
    "            f\"Total Cost (USD): ${format(cb.total_cost, '.4f')}\"\n",
    "        )\n",
    "\n",
    "    return response"
   ]
  },
  {
   "cell_type": "code",
   "execution_count": 5,
   "id": "25e00dab-95ed-4ed9-894f-dd31db2c35b1",
   "metadata": {},
   "outputs": [],
   "source": [
    "def get_player_info_structured(text: str) -> str:\n",
    "    '''\n",
    "        This function would return the result in JSON structure only. \n",
    "        We don't have to write a custom parse to convert string to JSON LangChain already provides with the a parser\n",
    "    '''\n",
    "    response_schemas = [\n",
    "        ResponseSchema(name=\"Name\", description=\"Name of the player.\"),\n",
    "        ResponseSchema(name=\"DateOfBirth\", description=\"Date of birth of the player in DD/MM/YYYY\"),\n",
    "    ]\n",
    "    output_parser = StructuredOutputParser.from_response_schemas(response_schemas)\n",
    "\n",
    "    format_instructions = output_parser.get_format_instructions()\n",
    "    prompt = PromptTemplate(\n",
    "        template=\"\"\"I would be giving you player information. \n",
    "                    {format_instructions}\\n{text}.\"\"\",\n",
    "        input_variables=[\"text\"],\n",
    "        partial_variables={\"format_instructions\": format_instructions}\n",
    "    )\n",
    "    azure_chat_open_ai = AzureChatOpenAI(openai_api_version=openai_api_version,\n",
    "                                         azure_deployment=engine)\n",
    "\n",
    "    chain = prompt | azure_chat_open_ai | output_parser\n",
    "    with get_openai_callback() as cb:\n",
    "        response = chain.invoke({\"text\": text})\n",
    "        print(\n",
    "            f\"Total Cost (USD): ${format(cb.total_cost, '.4f')}\"\n",
    "        )\n",
    "\n",
    "    return response"
   ]
  },
  {
   "cell_type": "code",
   "execution_count": 6,
   "id": "51aef904-b09c-4334-989c-d49c6e0bc982",
   "metadata": {},
   "outputs": [],
   "source": [
    "player = \"\"\"Sachin Ramesh Tendulkar, (/ˌsʌtʃɪn tɛnˈduːlkər/ ⓘ; pronounced [sətɕin teːɳɖulkəɾ]; \n",
    "            born 24 April 1973) is an Indian former international cricketer who captained the Indian national team. \n",
    "            He is widely regarded as one of the greatest batsmen in the history of cricket. \n",
    "            Hailed as the world's most prolific batsman of all time, \n",
    "            he is the all-time highest run-scorer in both ODI and Test cricket with more than 18,000 runs and 15,000 runs, respectively.\n",
    "            He also holds the record for receiving the most player of the match awards in international cricket.\n",
    "            Tendulkar was a Member of Parliament, Rajya Sabha by nomination from 2012 to 2018.\"\"\""
   ]
  },
  {
   "cell_type": "code",
   "execution_count": 7,
   "id": "e77d2b14-90c2-490b-9c43-8b5699e9b9f2",
   "metadata": {},
   "outputs": [
    {
     "name": "stdout",
     "output_type": "stream",
     "text": [
      "---------------------Response in text--------------------\n",
      "Total Cost (USD): $0.0004\n",
      "content='Player Name: Sachin Ramesh Tendulkar\\nDate of Birth: 24 April 1973'\n",
      "---------------------Response in json--------------------\n",
      "Total Cost (USD): $0.0004\n",
      "content='{\\n  \"Name\": \"Sachin Ramesh Tendulkar\",\\n  \"DateOfBirth\": \"24/04/1973\"\\n}'\n",
      "---------------------Response in structured--------------------\n",
      "Total Cost (USD): $0.0005\n",
      "{'Name': 'Sachin Ramesh Tendulkar', 'DateOfBirth': '24/04/1973'}\n"
     ]
    }
   ],
   "source": [
    "print(\"---------------------Response in text--------------------\")\n",
    "print(get_player_info_text(player))\n",
    "print(\"---------------------Response in json--------------------\")\n",
    "print(get_player_info_json(player))\n",
    "print(\"---------------------Response in structured--------------------\")\n",
    "print(get_player_info_structured(player))"
   ]
  },
  {
   "cell_type": "code",
   "execution_count": null,
   "id": "cd6615fd-2e80-4e1a-a009-6632a84881b7",
   "metadata": {},
   "outputs": [],
   "source": []
  }
 ],
 "metadata": {
  "kernelspec": {
   "display_name": "Python 3 (ipykernel)",
   "language": "python",
   "name": "python3"
  },
  "language_info": {
   "codemirror_mode": {
    "name": "ipython",
    "version": 3
   },
   "file_extension": ".py",
   "mimetype": "text/x-python",
   "name": "python",
   "nbconvert_exporter": "python",
   "pygments_lexer": "ipython3",
   "version": "3.11.6"
  }
 },
 "nbformat": 4,
 "nbformat_minor": 5
}
